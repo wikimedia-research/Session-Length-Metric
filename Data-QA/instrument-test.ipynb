{
 "cells": [
  {
   "cell_type": "markdown",
   "metadata": {},
   "source": [
    "# Session Tick Instrumentation QA\n",
    "\n",
    "**Phab**: [T275672](https://phabricator.wikimedia.org/T275672)\n",
    "\n",
    "----\n",
    "\n",
    "Testing was done across 4 modern browsers (Opera 74, Edge 89, Firefox 86, Chrome 89) while logged in to an account that belonged to the \"data-qa\" user group on test.wikipedia.org, which enabled tagging all session tick events as \"qa\" to make it possible to query just those events from the database (approximately 3 hours later).\n",
    "\n",
    "A log of sessions and events was kept:\n",
    "\n",
    "| Session | Browser | Event | Time | Comment |\n",
    "|--------:|:--------|:------|:-----|:--------|\n",
    "| 1 | Opera | Tab opened | 12:33PM EST | Session started with tick 0 at 2021-03-12T17:34:38.038Z |\n",
    "| 1 | Opera | Tab closed | 12:42PM EST | Session paused after tick 7 at 2021-03-12T17:41:12.349Z |\n",
    "| 1 | Opera | Tab opened | 12:59PM EST | Session resumed; ticks 8-25 backfilled at 2021-03-12T17:59:38.267Z |\n",
    "| 1 | Opera | Tab closed | 01:01PM EST | Session paused after tick 26 at 2021-03-12T18:00:38.277Z |\n",
    "| 5 | Opera | Tab opened | 01:50PM EST | Session reset with tick 0 at 2021-03-12T18:51:54.229Z |\n",
    "| 5 | Opera | Tab closed | 01:53PM EST | Session ended after tick 2 at 2021-03-12T18:52:54.878Z |\n",
    "| 2 | Edge | Tab opened | 12:44PM EST | Session started with tick 0 at 2021-03-12T17:45:09.709Z |\n",
    "| 2 | Edge | Tab closed | 12:55PM EST | Session paused after tick 10 @ 2021-03-12T17:55:14.379Z |\n",
    "| 2 | Edge | Tab opened | 01:17PM EST | Session resumed; ticks 11-32 backfilled at 2021-03-12T18:17:53.754Z |\n",
    "| 2 | Edge | Tab closed | 01:18PM EST | Session ended after tick 32 at 2021-03-12T18:17:53.754Z |\n",
    "| 7 | Edge | Tab opened | 02:00PM EST | Session reset with tick 0 at 2021-03-12T19:01:16.128Z |\n",
    "| 7 | Edge | Tab closed | 02:01PM EST | Session ended after tick 0 at 2021-03-12T19:01:16.128Z |\n",
    "| 3 | Firefox | Tab opened | 12:46PM EST | Session started with tick 0 at 2021-03-12T17:47:19.034Z |\n",
    "| 3 | Firefox | Tab closed | 12:56PM EST | Last tick was 9 at 2021-03-12T17:56:17.136Z |\n",
    "| 6 | Firefox | Tab opened | 01:55PM EST | Session reset with tick 0 at 2021-03-12T18:56:17.088Z |\n",
    "| 6 | Firefox | Tab closed | 01:56PM EST | Last tick was 0 at 2021-03-12T18:56:17.088Z |\n",
    "| 4 | Chrome | Tab opened | 12:48PM EST | Session started with tick 0 at 2021-03-12T17:48:59.324Z; POSTing blocked by uBlock Origin |\n",
    "| 4 | Chrome | uBlock disabled | 01:50PM EST | Tick 2 (2021-03-12T17:50:51.366Z) should be first received tick from this session |\n",
    "| 4 | Chrome | Tab closed | 12:56PM EST | Session paused after tick 7 at 2021-03-12T17:56:03.276Z |\n",
    "| 4 | Chrome | Tab opened | 01:05PM EST | Session resumed; ticks 8-16 backfilled at 2021-03-12T18:05:35.217Z |\n",
    "| 4 | Chrome | Tab closed | 01:25PM EST | Session ended after tick 96 at 2021-03-12T19:25:21.785Z |\n",
    "\n",
    "Statistics to test:\n",
    "\n",
    "| Browser | Sessions | Events | Longest Session (ticks) | Shortest Session (ticks) |\n",
    "|:--------|---------:|-------:|------------------------:|-------------------------:|\n",
    "| Opera | 2 | 30 | 26 | 2 |\n",
    "| Edge | 2 | 34 | 32 | 0 |\n",
    "| Firefox | 2 | 11 | 9 | 0 |\n",
    "| Chrome | 1 | 95 | 96 | 96 |\n",
    "\n",
    "**Note**: Since the first two events (ticks 0 and 1) were blocked from POSTing in Chrome by uBlock Origin, there should only be 95 events total (ticks 2-96).\n",
    "\n",
    "----"
   ]
  },
  {
   "cell_type": "code",
   "execution_count": 1,
   "metadata": {},
   "outputs": [
    {
     "name": "stderr",
     "output_type": "stream",
     "text": [
      "here() starts at /srv/home/bearloga/T275672\n",
      "\n"
     ]
    }
   ],
   "source": [
    "suppressPackageStartupMessages({\n",
    "    library(tidyverse)  # data wrangling\n",
    "    library(lubridate)  # working with date/time\n",
    "    library(assertthat) # asserting conditions\n",
    "})\n",
    "\n",
    "library(here)\n",
    "\n",
    "# Visualization settings:\n",
    "options(repr.plot.width = 10, repr.plot.height = 7)\n",
    "theme_set(theme_minimal(base_size = 14))"
   ]
  },
  {
   "cell_type": "markdown",
   "metadata": {},
   "source": [
    "## Data"
   ]
  },
  {
   "cell_type": "code",
   "execution_count": 2,
   "metadata": {},
   "outputs": [],
   "source": [
    "query <- \"USE event;\n",
    "SELECT\n",
    "  meta.dt AS dt_server,\n",
    "  dt AS dt_client,\n",
    "  user_agent_map['browser_family'] AS browser,\n",
    "  tick\n",
    "FROM mediawiki_client_session_tick\n",
    "WHERE year = 2021 AND month = 3 AND day = 12\n",
    "  AND meta.domain = 'test.wikipedia.org'\n",
    "  AND test['qa'] = 1;\""
   ]
  },
  {
   "cell_type": "code",
   "execution_count": 3,
   "metadata": {},
   "outputs": [],
   "source": [
    "mw_session_ticks <- (function(cached_results) {\n",
    "    if (file.exists(cached_results)) {\n",
    "        return(readr::read_csv(cached_results, col_types = \"ccci\"))\n",
    "    } else {\n",
    "        results <- wmfdata::query_hive(query)\n",
    "        readr::write_csv(results, cached_results)\n",
    "        return(results)\n",
    "    }\n",
    "})(cached_results = here(\"mw_session_ticks.csv\"))"
   ]
  },
  {
   "cell_type": "code",
   "execution_count": 4,
   "metadata": {},
   "outputs": [
    {
     "data": {
      "text/html": [
       "<table class=\"dataframe\">\n",
       "<caption>A tibble: 2 × 4</caption>\n",
       "<thead>\n",
       "\t<tr><th scope=col>dt_server</th><th scope=col>dt_client</th><th scope=col>browser</th><th scope=col>tick</th></tr>\n",
       "\t<tr><th scope=col>&lt;dttm&gt;</th><th scope=col>&lt;dttm&gt;</th><th scope=col>&lt;chr&gt;</th><th scope=col>&lt;int&gt;</th></tr>\n",
       "</thead>\n",
       "<tbody>\n",
       "\t<tr><td>2021-03-12 17:35:08</td><td>2021-03-12 17:34:38</td><td>Opera</td><td>0</td></tr>\n",
       "\t<tr><td>2021-03-12 17:36:06</td><td>2021-03-12 17:35:36</td><td>Opera</td><td>1</td></tr>\n",
       "</tbody>\n",
       "</table>\n"
      ],
      "text/latex": [
       "A tibble: 2 × 4\n",
       "\\begin{tabular}{llll}\n",
       " dt\\_server & dt\\_client & browser & tick\\\\\n",
       " <dttm> & <dttm> & <chr> & <int>\\\\\n",
       "\\hline\n",
       "\t 2021-03-12 17:35:08 & 2021-03-12 17:34:38 & Opera & 0\\\\\n",
       "\t 2021-03-12 17:36:06 & 2021-03-12 17:35:36 & Opera & 1\\\\\n",
       "\\end{tabular}\n"
      ],
      "text/markdown": [
       "\n",
       "A tibble: 2 × 4\n",
       "\n",
       "| dt_server &lt;dttm&gt; | dt_client &lt;dttm&gt; | browser &lt;chr&gt; | tick &lt;int&gt; |\n",
       "|---|---|---|---|\n",
       "| 2021-03-12 17:35:08 | 2021-03-12 17:34:38 | Opera | 0 |\n",
       "| 2021-03-12 17:36:06 | 2021-03-12 17:35:36 | Opera | 1 |\n",
       "\n"
      ],
      "text/plain": [
       "  dt_server           dt_client           browser tick\n",
       "1 2021-03-12 17:35:08 2021-03-12 17:34:38 Opera   0   \n",
       "2 2021-03-12 17:36:06 2021-03-12 17:35:36 Opera   1   "
      ]
     },
     "metadata": {},
     "output_type": "display_data"
    }
   ],
   "source": [
    "mw_session_ticks <- mw_session_ticks %>%\n",
    "    mutate(across(starts_with(\"dt\"), ymd_hms)) %>%\n",
    "    arrange(dt_client)\n",
    "\n",
    "head(mw_session_ticks, 2)"
   ]
  },
  {
   "cell_type": "code",
   "execution_count": 5,
   "metadata": {},
   "outputs": [
    {
     "data": {
      "image/png": "[encoded data removed]",
      "text/plain": [
       "plot without title"
      ]
     },
     "metadata": {
      "image/png": {
       "height": 420,
       "width": 600
      }
     },
     "output_type": "display_data"
    }
   ],
   "source": [
    "mw_session_ticks %>%\n",
    "    group_by(browser) %>%\n",
    "    arrange(dt_client, tick) %>%\n",
    "    mutate(cumulative_events = cumsum(tick >= 0)) %>%\n",
    "    ggplot(aes(x = dt_client, y = cumulative_events, color = browser)) +\n",
    "    geom_step(size = 1.1) +\n",
    "    scale_y_continuous(\"Events\", breaks = seq(0, 100, 10)) +\n",
    "    scale_x_datetime(\n",
    "        \"Event product time (client-side)\",\n",
    "        date_labels = \"%I:%M %p EST\",\n",
    "        timezone = \"America/New_York\"\n",
    "    ) +\n",
    "    ggtitle(\"Cumulative events over time per browser\")"
   ]
  },
  {
   "cell_type": "markdown",
   "metadata": {},
   "source": [
    "----\n",
    "\n",
    "## Session statistics\n",
    "\n",
    "First, stats we expect to see based on the log:"
   ]
  },
  {
   "cell_type": "code",
   "execution_count": 6,
   "metadata": {},
   "outputs": [
    {
     "data": {
      "text/html": [
       "<table class=\"dataframe\">\n",
       "<caption>A tibble: 4 × 5</caption>\n",
       "<thead>\n",
       "\t<tr><th scope=col>browser</th><th scope=col>n_sessions</th><th scope=col>n_events</th><th scope=col>session_length_longest</th><th scope=col>session_length_shortest</th></tr>\n",
       "\t<tr><th scope=col>&lt;chr&gt;</th><th scope=col>&lt;int&gt;</th><th scope=col>&lt;int&gt;</th><th scope=col>&lt;int&gt;</th><th scope=col>&lt;int&gt;</th></tr>\n",
       "</thead>\n",
       "<tbody>\n",
       "\t<tr><td>Chrome </td><td>1</td><td>95</td><td>96</td><td>96</td></tr>\n",
       "\t<tr><td>Edge   </td><td>2</td><td>34</td><td>32</td><td> 0</td></tr>\n",
       "\t<tr><td>Firefox</td><td>2</td><td>11</td><td> 9</td><td> 0</td></tr>\n",
       "\t<tr><td>Opera  </td><td>2</td><td>30</td><td>26</td><td> 2</td></tr>\n",
       "</tbody>\n",
       "</table>\n"
      ],
      "text/latex": [
       "A tibble: 4 × 5\n",
       "\\begin{tabular}{lllll}\n",
       " browser & n\\_sessions & n\\_events & session\\_length\\_longest & session\\_length\\_shortest\\\\\n",
       " <chr> & <int> & <int> & <int> & <int>\\\\\n",
       "\\hline\n",
       "\t Chrome  & 1 & 95 & 96 & 96\\\\\n",
       "\t Edge    & 2 & 34 & 32 &  0\\\\\n",
       "\t Firefox & 2 & 11 &  9 &  0\\\\\n",
       "\t Opera   & 2 & 30 & 26 &  2\\\\\n",
       "\\end{tabular}\n"
      ],
      "text/markdown": [
       "\n",
       "A tibble: 4 × 5\n",
       "\n",
       "| browser &lt;chr&gt; | n_sessions &lt;int&gt; | n_events &lt;int&gt; | session_length_longest &lt;int&gt; | session_length_shortest &lt;int&gt; |\n",
       "|---|---|---|---|---|\n",
       "| Chrome  | 1 | 95 | 96 | 96 |\n",
       "| Edge    | 2 | 34 | 32 |  0 |\n",
       "| Firefox | 2 | 11 |  9 |  0 |\n",
       "| Opera   | 2 | 30 | 26 |  2 |\n",
       "\n"
      ],
      "text/plain": [
       "  browser n_sessions n_events session_length_longest session_length_shortest\n",
       "1 Chrome  1          95       96                     96                     \n",
       "2 Edge    2          34       32                      0                     \n",
       "3 Firefox 2          11        9                      0                     \n",
       "4 Opera   2          30       26                      2                     "
      ]
     },
     "metadata": {},
     "output_type": "display_data"
    }
   ],
   "source": [
    "session_qa <- tribble(\n",
    "    ~browser, ~n_sessions, ~n_events, ~session_length_longest, ~session_length_shortest,\n",
    "    \"Opera\", 2, 30, 26, 2,\n",
    "    \"Edge\", 2, 34, 32, 0,\n",
    "    \"Firefox\", 2, 11, 9, 0,\n",
    "    \"Chrome\", 1, 95, 96, 96\n",
    ")\n",
    "\n",
    "session_qa <- session_qa %>%\n",
    "    mutate(across(where(is.numeric), as.integer)) %>%\n",
    "    arrange(browser)\n",
    "\n",
    "session_qa"
   ]
  },
  {
   "cell_type": "markdown",
   "metadata": {},
   "source": [
    "Then, stats based on the received events:"
   ]
  },
  {
   "cell_type": "code",
   "execution_count": 7,
   "metadata": {},
   "outputs": [
    {
     "data": {
      "text/html": [
       "<table class=\"dataframe\">\n",
       "<caption>A tibble: 4 × 5</caption>\n",
       "<thead>\n",
       "\t<tr><th scope=col>browser</th><th scope=col>n_sessions</th><th scope=col>n_events</th><th scope=col>session_length_longest</th><th scope=col>session_length_shortest</th></tr>\n",
       "\t<tr><th scope=col>&lt;chr&gt;</th><th scope=col>&lt;int&gt;</th><th scope=col>&lt;int&gt;</th><th scope=col>&lt;int&gt;</th><th scope=col>&lt;int&gt;</th></tr>\n",
       "</thead>\n",
       "<tbody>\n",
       "\t<tr><td>Chrome </td><td>1</td><td>95</td><td>96</td><td>96</td></tr>\n",
       "\t<tr><td>Edge   </td><td>2</td><td>34</td><td>32</td><td> 0</td></tr>\n",
       "\t<tr><td>Firefox</td><td>2</td><td>11</td><td> 9</td><td> 0</td></tr>\n",
       "\t<tr><td>Opera  </td><td>2</td><td>30</td><td>26</td><td> 2</td></tr>\n",
       "</tbody>\n",
       "</table>\n"
      ],
      "text/latex": [
       "A tibble: 4 × 5\n",
       "\\begin{tabular}{lllll}\n",
       " browser & n\\_sessions & n\\_events & session\\_length\\_longest & session\\_length\\_shortest\\\\\n",
       " <chr> & <int> & <int> & <int> & <int>\\\\\n",
       "\\hline\n",
       "\t Chrome  & 1 & 95 & 96 & 96\\\\\n",
       "\t Edge    & 2 & 34 & 32 &  0\\\\\n",
       "\t Firefox & 2 & 11 &  9 &  0\\\\\n",
       "\t Opera   & 2 & 30 & 26 &  2\\\\\n",
       "\\end{tabular}\n"
      ],
      "text/markdown": [
       "\n",
       "A tibble: 4 × 5\n",
       "\n",
       "| browser &lt;chr&gt; | n_sessions &lt;int&gt; | n_events &lt;int&gt; | session_length_longest &lt;int&gt; | session_length_shortest &lt;int&gt; |\n",
       "|---|---|---|---|---|\n",
       "| Chrome  | 1 | 95 | 96 | 96 |\n",
       "| Edge    | 2 | 34 | 32 |  0 |\n",
       "| Firefox | 2 | 11 |  9 |  0 |\n",
       "| Opera   | 2 | 30 | 26 |  2 |\n",
       "\n"
      ],
      "text/plain": [
       "  browser n_sessions n_events session_length_longest session_length_shortest\n",
       "1 Chrome  1          95       96                     96                     \n",
       "2 Edge    2          34       32                      0                     \n",
       "3 Firefox 2          11        9                      0                     \n",
       "4 Opera   2          30       26                      2                     "
      ]
     },
     "metadata": {},
     "output_type": "display_data"
    }
   ],
   "source": [
    "session_stats <- mw_session_ticks %>%\n",
    "    group_by(browser) %>%\n",
    "    arrange(dt_client) %>%\n",
    "    mutate(session = cumsum(tick == 0)) %>%\n",
    "    group_by(browser, session) %>%\n",
    "    summarize(\n",
    "        n_events = n(),\n",
    "        length_ticks = max(tick),\n",
    "        .groups = \"drop_last\"\n",
    "    ) %>%\n",
    "    summarize(\n",
    "        n_sessions = n(),\n",
    "        n_events = sum(n_events),\n",
    "        session_length_longest = max(length_ticks),\n",
    "        session_length_shortest = min(length_ticks),\n",
    "        .groups = \"drop\"\n",
    "    )\n",
    "\n",
    "session_stats"
   ]
  },
  {
   "cell_type": "markdown",
   "metadata": {},
   "source": [
    "## Comparing Expected vs Observed"
   ]
  },
  {
   "cell_type": "code",
   "execution_count": 8,
   "metadata": {},
   "outputs": [],
   "source": [
    "qa_results <- session_qa %>%\n",
    "    pivot_longer(where(is.numeric), names_to = \"stat\", values_to = \"expected\") %>%\n",
    "    left_join(\n",
    "        pivot_longer(session_stats, where(is.numeric), names_to = \"stat\", values_to = \"observed\"),\n",
    "        by = c(\"browser\", \"stat\")\n",
    "    ) %>%\n",
    "    mutate(match = expected == observed)"
   ]
  },
  {
   "cell_type": "code",
   "execution_count": 9,
   "metadata": {},
   "outputs": [
    {
     "name": "stdout",
     "output_type": "stream",
     "text": [
      "Passed all checks!"
     ]
    }
   ],
   "source": [
    "if (all(qa_results$match)) {\n",
    "    cat(\"Passed all checks!\")\n",
    "} else {\n",
    "    cat(\"Failed checks:\")\n",
    "    qa_results %>%\n",
    "        filter(!match) %>%\n",
    "        select(-match)\n",
    "}"
   ]
  },
  {
   "cell_type": "code",
   "execution_count": null,
   "metadata": {},
   "outputs": [],
   "source": []
  }
 ],
 "metadata": {
  "kernelspec": {
   "display_name": "R",
   "language": "R",
   "name": "ir"
  },
  "language_info": {
   "codemirror_mode": "r",
   "file_extension": ".r",
   "mimetype": "text/x-r-source",
   "name": "R",
   "pygments_lexer": "r",
   "version": "3.5.2"
  }
 },
 "nbformat": 4,
 "nbformat_minor": 4
}

{
 "cells": [
  {
   "cell_type": "markdown",
   "metadata": {},
   "source": [
    "# [T273116](https://phabricator.wikimedia.org/T273116) Data QA for Create Oozie job for session length\n",
    "\n",
    "\n",
    "In this task we will be verifying if events in mforns.session_length_daily (__intermediate table__) is sessionized correctly from the source schema (__raw table__) [event.mediawiki_client_session_tick](https://gerrit.wikimedia.org/r/plugins/gitiles/schemas/event/secondary/+/refs/heads/master/jsonschema/analytics/session_tick/2.0.0.yaml) and if the Instrumentation \n",
    "is working correctly.  \n",
    "\n",
    "Currently the instrumentation is deployed on [Group 0 and Group 1](https://wikitech.wikimedia.org/wiki/Deployments/Train) wikis only.\n",
    "\n",
    "**Observations from Session Length data-QA of intermediate table** \n",
    "1. Compared with data from mediawiki_client_session_tick for a few days (Jan 5 to Jan 21, 2021)  \n",
    "- The total session length duration in the sessionized table is more than the raw table by 0.19%   \n",
    "This could be because sessions are capped at the day level in the sessionized table. If there are sessions that extend beyond 00:00 UTC in the raw table they will be missing tick 0s (start of the session) in the intermediate table.\n",
    "Hence we’re adding 1 minute for each missing tick, that results from cutting a session at start/end of day.  \n",
    "To learn more about this, please refer to [Session Length - Interrupted Sessions](https://wikitech.wikimedia.org/wiki/Analytics/Data_Lake/Traffic/SessionLength#Interrupted_sessions)  \n",
    "- The number of sessions in the raw table and sessionized table is different. \n",
    "2. Min and Max values of the session length between the two tables checks out  \n",
    "3. The ‘wiki’ field in the intermediate table consists of both desktop web and mobile web events of a wiki ie we will be able to tell them apart only in the raw table.    \n",
    "4. The intermediate table will have sessions only from the wmf domain. It will also filter out events from translate.google  \n",
    "\n",
    "5. We compared the differences between the number of sessions of a certain session length in the raw and intermediate table on multiple levels - per day, per wiki, and overall. Positive offset values indicated that the number of sessions in the intermediate table is greater than raw table and negative offset indicated vice versa. We then built a histogram of the values to illustrate the differences and then calculated percentiles of sessions to compare the values between the two tables.  \n",
    " a) On a per day or per wiki basis, the data shows that most session lengths have an equal number of sessions between the two tables i.e. difference of 0.   \n",
    " b) On a per day or per wiki basis, the session lengths that are different have a small variation in the number of sessions between the two tables.  \n",
    " c) However, when we compared All of the data in the two tables, we saw that very few session lengths had the same number of sessions in the two tables ie majority of the session length differences were non-zero, which was concerning. But then when we calculated the percentile values they were very close or almost the same between the two tables. _Thus the impact of the difference in number of sessions and session length durations in the two tables to percentile values of the session lengths is negligible._\n",
    "\n"
   ]
  },
  {
   "cell_type": "code",
   "execution_count": 1,
   "metadata": {},
   "outputs": [
    {
     "name": "stderr",
     "output_type": "stream",
     "text": [
      "You are using wmfdata v1.0.1, but v1.0.4 is available.\n",
      "\n",
      "To update, run `pip install --upgrade git+https://github.com/neilpquinn/wmfdata/wmfdata.git@release`.\n",
      "\n",
      "To see the changes, refer to https://github.com/neilpquinn/wmfdata/blob/release/CHANGELOG.md\n"
     ]
    }
   ],
   "source": [
    "import matplotlib.pyplot as plt\n",
    "from matplotlib.ticker import StrMethodFormatter as mpl\n",
    "import numpy as np\n",
    "import pandas as pd\n",
    "from tabulate import tabulate\n",
    "from wmfdata import charting, hive, mariadb\n",
    "from wmfdata.charting import comma_fmt, pct_fmt\n",
    "from wmfdata.utils import df_to_remarkup, pct_str"
   ]
  },
  {
   "cell_type": "markdown",
   "metadata": {},
   "source": [
    "## 1. Session Length duration \n",
    "Compare the sessions lengths between the raw table and intermediate table.   \n",
    "We will do this by calculating the Sum of session lengths from Intermediate table and Count of non-zero Ticks from event table (since one tick is sent every 1 minute) "
   ]
  },
  {
   "cell_type": "code",
   "execution_count": 2,
   "metadata": {},
   "outputs": [],
   "source": [
    "# Session Length per day from Intermediate table\n",
    "\n",
    "sl_day = hive.run(\"\"\"\n",
    "SELECT\n",
    "  date_format(CONCAT(year, '-', month, '-', day),\"yyyy-MM-dd\"),\n",
    "  sum(session_length) AS sl_session_length  \n",
    "\n",
    "FROM mforns.session_length_daily\n",
    "WHERE\n",
    "  year = 2021 AND month=1 AND day>=6 \n",
    "GROUP BY CONCAT(year, '-', month, '-', day)\n",
    "\"\"\")"
   ]
  },
  {
   "cell_type": "code",
   "execution_count": 3,
   "metadata": {},
   "outputs": [],
   "source": [
    "sl_day['sl_session_length'] = sl_day.apply(lambda x: \"{:,}\".\n",
    "                                              format(x['sl_session_length']), axis=1)"
   ]
  },
  {
   "cell_type": "code",
   "execution_count": 4,
   "metadata": {},
   "outputs": [],
   "source": [
    "sl_day=sl_day.rename(columns={\"_c0\": \"date\"})\n",
    "sl_day.sort_values(by=['date'], inplace=True, ascending=True)\n",
    "few_sl_day= sl_day[sl_day[\"date\"].isin(['2021-01-06','2021-01-20',\n",
    "                                        '2021-01-10','2021-01-14'])]"
   ]
  },
  {
   "cell_type": "markdown",
   "metadata": {},
   "source": [
    "Compare with data from mediawiki_client_session_tick for a few days"
   ]
  },
  {
   "cell_type": "code",
   "execution_count": 5,
   "metadata": {},
   "outputs": [],
   "source": [
    "# Session Length per day from raw table\n",
    "\n",
    "sl_day_mwsessiontick = hive.run(\"\"\"\n",
    "SELECT\n",
    "  date_format(meta.dt, \"yyyy-MM-dd\"),\n",
    "  COUNT(1) AS mwst_sessionlength\n",
    "  \n",
    "FROM event.mediawiki_client_session_tick\n",
    "WHERE\n",
    "  year = 2021 \n",
    "  AND month=1 \n",
    "  AND day>=6 AND day<22 \n",
    "  --Since Sessionized table has data from Jan 6 to Jan 21, 2021\n",
    "  \n",
    "  AND tick <>0 \n",
    "  --removing tick 0s since we are counting rows of all the ticks received\n",
    "  \n",
    "  AND is_wmf_domain\n",
    "  --adding filter for removing non-wmf events\n",
    "  \n",
    "GROUP BY date_format(meta.dt, \"yyyy-MM-dd\")\n",
    "\"\"\")"
   ]
  },
  {
   "cell_type": "code",
   "execution_count": 6,
   "metadata": {},
   "outputs": [],
   "source": [
    "sl_day_mwsessiontick['mwst_sessionlength'] = sl_day_mwsessiontick.apply(\n",
    "    lambda x: \"{:,}\".format(x['mwst_sessionlength']),axis=1)                         "
   ]
  },
  {
   "cell_type": "code",
   "execution_count": 7,
   "metadata": {},
   "outputs": [],
   "source": [
    "sl_day_mwsessiontick=sl_day_mwsessiontick.rename(columns={\"_c0\": \"date\"})\n",
    "sl_day_mwsessiontick.sort_values(by=['date'], inplace=True, ascending=True)\n",
    "few_mwst= sl_day_mwsessiontick[sl_day_mwsessiontick[\"date\"].isin(['2021-01-06','2021-01-20',\n",
    "                                        '2021-01-10','2021-01-14'])]"
   ]
  },
  {
   "cell_type": "code",
   "execution_count": 8,
   "metadata": {},
   "outputs": [
    {
     "data": {
      "text/html": [
       "<div>\n",
       "<style scoped>\n",
       "    .dataframe tbody tr th:only-of-type {\n",
       "        vertical-align: middle;\n",
       "    }\n",
       "\n",
       "    .dataframe tbody tr th {\n",
       "        vertical-align: top;\n",
       "    }\n",
       "\n",
       "    .dataframe thead th {\n",
       "        text-align: right;\n",
       "    }\n",
       "</style>\n",
       "<table border=\"1\" class=\"dataframe\">\n",
       "  <thead>\n",
       "    <tr style=\"text-align: right;\">\n",
       "      <th></th>\n",
       "      <th>date</th>\n",
       "      <th>mwst_sessionlength</th>\n",
       "    </tr>\n",
       "  </thead>\n",
       "  <tbody>\n",
       "    <tr>\n",
       "      <th>12</th>\n",
       "      <td>2021-01-06</td>\n",
       "      <td>22,518,155</td>\n",
       "    </tr>\n",
       "    <tr>\n",
       "      <th>0</th>\n",
       "      <td>2021-01-10</td>\n",
       "      <td>23,308,255</td>\n",
       "    </tr>\n",
       "    <tr>\n",
       "      <th>4</th>\n",
       "      <td>2021-01-14</td>\n",
       "      <td>26,669,140</td>\n",
       "    </tr>\n",
       "    <tr>\n",
       "      <th>10</th>\n",
       "      <td>2021-01-20</td>\n",
       "      <td>28,338,137</td>\n",
       "    </tr>\n",
       "  </tbody>\n",
       "</table>\n",
       "</div>"
      ],
      "text/plain": [
       "          date mwst_sessionlength\n",
       "12  2021-01-06         22,518,155\n",
       "0   2021-01-10         23,308,255\n",
       "4   2021-01-14         26,669,140\n",
       "10  2021-01-20         28,338,137"
      ]
     },
     "execution_count": 8,
     "metadata": {},
     "output_type": "execute_result"
    }
   ],
   "source": [
    "few_mwst"
   ]
  },
  {
   "cell_type": "code",
   "execution_count": 9,
   "metadata": {},
   "outputs": [
    {
     "data": {
      "text/html": [
       "<div>\n",
       "<style scoped>\n",
       "    .dataframe tbody tr th:only-of-type {\n",
       "        vertical-align: middle;\n",
       "    }\n",
       "\n",
       "    .dataframe tbody tr th {\n",
       "        vertical-align: top;\n",
       "    }\n",
       "\n",
       "    .dataframe thead th {\n",
       "        text-align: right;\n",
       "    }\n",
       "</style>\n",
       "<table border=\"1\" class=\"dataframe\">\n",
       "  <thead>\n",
       "    <tr style=\"text-align: right;\">\n",
       "      <th></th>\n",
       "      <th>date</th>\n",
       "      <th>sl_session_length</th>\n",
       "    </tr>\n",
       "  </thead>\n",
       "  <tbody>\n",
       "    <tr>\n",
       "      <th>12</th>\n",
       "      <td>2021-01-06</td>\n",
       "      <td>22,546,179</td>\n",
       "    </tr>\n",
       "    <tr>\n",
       "      <th>0</th>\n",
       "      <td>2021-01-10</td>\n",
       "      <td>23,342,409</td>\n",
       "    </tr>\n",
       "    <tr>\n",
       "      <th>4</th>\n",
       "      <td>2021-01-14</td>\n",
       "      <td>26,716,655</td>\n",
       "    </tr>\n",
       "    <tr>\n",
       "      <th>10</th>\n",
       "      <td>2021-01-20</td>\n",
       "      <td>28,402,619</td>\n",
       "    </tr>\n",
       "  </tbody>\n",
       "</table>\n",
       "</div>"
      ],
      "text/plain": [
       "          date sl_session_length\n",
       "12  2021-01-06        22,546,179\n",
       "0   2021-01-10        23,342,409\n",
       "4   2021-01-14        26,716,655\n",
       "10  2021-01-20        28,402,619"
      ]
     },
     "execution_count": 9,
     "metadata": {},
     "output_type": "execute_result"
    }
   ],
   "source": [
    "few_sl_day"
   ]
  },
  {
   "cell_type": "markdown",
   "metadata": {},
   "source": [
    "As you can see, the session lengths per day between the two tables is vastly different (by ~20,000 to 100,000 minutes). \n",
    "The Intermediate table has longer session lengths than the raw table. Let's investigate further by looking at the Total session lengths in both tables."
   ]
  },
  {
   "cell_type": "code",
   "execution_count": 10,
   "metadata": {},
   "outputs": [
    {
     "data": {
      "text/html": [
       "<div>\n",
       "<style scoped>\n",
       "    .dataframe tbody tr th:only-of-type {\n",
       "        vertical-align: middle;\n",
       "    }\n",
       "\n",
       "    .dataframe tbody tr th {\n",
       "        vertical-align: top;\n",
       "    }\n",
       "\n",
       "    .dataframe thead th {\n",
       "        text-align: right;\n",
       "    }\n",
       "</style>\n",
       "<table border=\"1\" class=\"dataframe\">\n",
       "  <thead>\n",
       "    <tr style=\"text-align: right;\">\n",
       "      <th></th>\n",
       "      <th>year</th>\n",
       "      <th>mwst_total_sl</th>\n",
       "    </tr>\n",
       "  </thead>\n",
       "  <tbody>\n",
       "    <tr>\n",
       "      <th>0</th>\n",
       "      <td>2021</td>\n",
       "      <td>402612299</td>\n",
       "    </tr>\n",
       "  </tbody>\n",
       "</table>\n",
       "</div>"
      ],
      "text/plain": [
       "   year  mwst_total_sl\n",
       "0  2021      402612299"
      ]
     },
     "execution_count": 10,
     "metadata": {},
     "output_type": "execute_result"
    }
   ],
   "source": [
    "# Total Session Length from event table\n",
    "\n",
    "total_mwst = hive.run(\"\"\"\n",
    "SELECT\n",
    "  substr(meta.dt, 0, 4) AS year,\n",
    "  COUNT(1) AS mwst_total_sl\n",
    "  \n",
    "FROM event.mediawiki_client_session_tick\n",
    "WHERE\n",
    "  year = 2021 \n",
    "  AND month=1 AND day>=6 AND day < 22\n",
    "  AND tick <>0\n",
    "  AND is_wmf_domain\n",
    "GROUP BY substr(meta.dt, 0, 4)\n",
    "\"\"\")\n",
    "total_mwst"
   ]
  },
  {
   "cell_type": "code",
   "execution_count": 11,
   "metadata": {},
   "outputs": [
    {
     "data": {
      "text/html": [
       "<div>\n",
       "<style scoped>\n",
       "    .dataframe tbody tr th:only-of-type {\n",
       "        vertical-align: middle;\n",
       "    }\n",
       "\n",
       "    .dataframe tbody tr th {\n",
       "        vertical-align: top;\n",
       "    }\n",
       "\n",
       "    .dataframe thead th {\n",
       "        text-align: right;\n",
       "    }\n",
       "</style>\n",
       "<table border=\"1\" class=\"dataframe\">\n",
       "  <thead>\n",
       "    <tr style=\"text-align: right;\">\n",
       "      <th></th>\n",
       "      <th>year</th>\n",
       "      <th>total_sl</th>\n",
       "    </tr>\n",
       "  </thead>\n",
       "  <tbody>\n",
       "    <tr>\n",
       "      <th>0</th>\n",
       "      <td>2021</td>\n",
       "      <td>403382822</td>\n",
       "    </tr>\n",
       "  </tbody>\n",
       "</table>\n",
       "</div>"
      ],
      "text/plain": [
       "   year   total_sl\n",
       "0  2021  403382822"
      ]
     },
     "execution_count": 11,
     "metadata": {},
     "output_type": "execute_result"
    }
   ],
   "source": [
    "# Session Length from Aggregated table\n",
    "\n",
    "total_sl = hive.run(\"\"\"\n",
    "SELECT\n",
    "  year,\n",
    "  sum(session_length) AS total_sl\n",
    "FROM mforns.session_length_daily\n",
    "WHERE\n",
    "  year = 2021 \n",
    "  AND month=1 AND day>=6\n",
    "GROUP BY year\n",
    "\"\"\")\n",
    "total_sl"
   ]
  },
  {
   "cell_type": "code",
   "execution_count": 12,
   "metadata": {},
   "outputs": [],
   "source": [
    "total_diff=((total_sl['total_sl']-total_mwst['mwst_total_sl'])/total_sl['total_sl'])*100"
   ]
  },
  {
   "cell_type": "markdown",
   "metadata": {},
   "source": [
    "Percentage difference of the session lengths in both the tables"
   ]
  },
  {
   "cell_type": "code",
   "execution_count": 13,
   "metadata": {},
   "outputs": [
    {
     "data": {
      "text/plain": [
       "0    0.191015\n",
       "dtype: float64"
      ]
     },
     "execution_count": 13,
     "metadata": {},
     "output_type": "execute_result"
    }
   ],
   "source": [
    "total_diff"
   ]
  },
  {
   "cell_type": "markdown",
   "metadata": {},
   "source": [
    "When comparing the data, sessionized table has **0.19%** more session length overall than the raw table. \n",
    "This is because sessions are capped at the day level in the sessionized table. If there are sessions that extend beyond 00:00 UTC in the raw table they will be missing tick 0s (start of the session) and hence we’re adding 1 minute for each missing tick, that results from cutting a session at start/end of day.  \n",
    "To learn more about this, please refer to [Session Length - Interrupted Sessions](https://wikitech.wikimedia.org/wiki/Analytics/Data_Lake/Traffic/SessionLength#Interrupted_sessions)"
   ]
  },
  {
   "cell_type": "markdown",
   "metadata": {},
   "source": [
    "## 2. Number of sessions \n",
    "Tick 0 is sent at the start of a session. We will be able to get the total number of sessions by counting the number of tick 0s received in the raw table. \n",
    "We will use this count of tick 0s to check if it is equal to the number of sessions (rows of data) recorded in the sessionized table "
   ]
  },
  {
   "cell_type": "code",
   "execution_count": 14,
   "metadata": {},
   "outputs": [],
   "source": [
    "# Count Session Length records from Aggregated table\n",
    "\n",
    "sl_count = hive.run(\"\"\"\n",
    "SELECT\n",
    "  year,\n",
    "  count(1) AS sl_count\n",
    "  \n",
    "FROM mforns.session_length_daily\n",
    "WHERE\n",
    "  year = 2021 \n",
    "  AND month=1 AND day>=6\n",
    "GROUP BY year\n",
    "\"\"\")"
   ]
  },
  {
   "cell_type": "code",
   "execution_count": 15,
   "metadata": {},
   "outputs": [],
   "source": [
    "# Count of Tick 0s from raw table\n",
    "\n",
    "mwst_tick0 = hive.run(\"\"\"\n",
    "SELECT\n",
    "  tick,\n",
    "  COUNT(1) AS total_ticks\n",
    "  \n",
    "FROM event.mediawiki_client_session_tick\n",
    "WHERE\n",
    "  year = 2021 \n",
    "  AND month=1 AND day>=6 AND day < 22\n",
    "  AND is_wmf_domain\n",
    "  --adding filter for removing non-wmf events\n",
    "GROUP BY tick HAVING tick=0\n",
    "\"\"\")"
   ]
  },
  {
   "cell_type": "code",
   "execution_count": 16,
   "metadata": {},
   "outputs": [
    {
     "data": {
      "text/html": [
       "<div>\n",
       "<style scoped>\n",
       "    .dataframe tbody tr th:only-of-type {\n",
       "        vertical-align: middle;\n",
       "    }\n",
       "\n",
       "    .dataframe tbody tr th {\n",
       "        vertical-align: top;\n",
       "    }\n",
       "\n",
       "    .dataframe thead th {\n",
       "        text-align: right;\n",
       "    }\n",
       "</style>\n",
       "<table border=\"1\" class=\"dataframe\">\n",
       "  <thead>\n",
       "    <tr style=\"text-align: right;\">\n",
       "      <th></th>\n",
       "      <th>year</th>\n",
       "      <th>sl_count</th>\n",
       "    </tr>\n",
       "  </thead>\n",
       "  <tbody>\n",
       "    <tr>\n",
       "      <th>0</th>\n",
       "      <td>2021</td>\n",
       "      <td>39436862</td>\n",
       "    </tr>\n",
       "  </tbody>\n",
       "</table>\n",
       "</div>"
      ],
      "text/plain": [
       "   year  sl_count\n",
       "0  2021  39436862"
      ]
     },
     "execution_count": 16,
     "metadata": {},
     "output_type": "execute_result"
    }
   ],
   "source": [
    "sl_count.head()"
   ]
  },
  {
   "cell_type": "code",
   "execution_count": 17,
   "metadata": {},
   "outputs": [
    {
     "data": {
      "text/html": [
       "<div>\n",
       "<style scoped>\n",
       "    .dataframe tbody tr th:only-of-type {\n",
       "        vertical-align: middle;\n",
       "    }\n",
       "\n",
       "    .dataframe tbody tr th {\n",
       "        vertical-align: top;\n",
       "    }\n",
       "\n",
       "    .dataframe thead th {\n",
       "        text-align: right;\n",
       "    }\n",
       "</style>\n",
       "<table border=\"1\" class=\"dataframe\">\n",
       "  <thead>\n",
       "    <tr style=\"text-align: right;\">\n",
       "      <th></th>\n",
       "      <th>tick</th>\n",
       "      <th>total_ticks</th>\n",
       "    </tr>\n",
       "  </thead>\n",
       "  <tbody>\n",
       "    <tr>\n",
       "      <th>0</th>\n",
       "      <td>0</td>\n",
       "      <td>39436467</td>\n",
       "    </tr>\n",
       "  </tbody>\n",
       "</table>\n",
       "</div>"
      ],
      "text/plain": [
       "   tick  total_ticks\n",
       "0     0     39436467"
      ]
     },
     "execution_count": 17,
     "metadata": {},
     "output_type": "execute_result"
    }
   ],
   "source": [
    "mwst_tick0"
   ]
  },
  {
   "cell_type": "markdown",
   "metadata": {},
   "source": [
    "The difference is number of sessions between the two tables could also be due to the point mentioned above where sessions are capped at the day level in the sessionized table. When longer sessions are cut at UTC 00:00 the algorithm for the intermediate table will get sessions that start at tick n (greater than 0).   \n",
    "**Please note that the sessionizing query will have sessions only from wmf domain as well as filter out events from translate.google**"
   ]
  },
  {
   "cell_type": "markdown",
   "metadata": {},
   "source": [
    "## 3. Minimum and Maximum Session Length value\n",
    "Minimum value on both tables should be 0.  \n",
    "Maximum values should be the same on both tables"
   ]
  },
  {
   "cell_type": "code",
   "execution_count": 18,
   "metadata": {},
   "outputs": [
    {
     "data": {
      "text/html": [
       "<div>\n",
       "<style scoped>\n",
       "    .dataframe tbody tr th:only-of-type {\n",
       "        vertical-align: middle;\n",
       "    }\n",
       "\n",
       "    .dataframe tbody tr th {\n",
       "        vertical-align: top;\n",
       "    }\n",
       "\n",
       "    .dataframe thead th {\n",
       "        text-align: right;\n",
       "    }\n",
       "</style>\n",
       "<table border=\"1\" class=\"dataframe\">\n",
       "  <thead>\n",
       "    <tr style=\"text-align: right;\">\n",
       "      <th></th>\n",
       "      <th>year</th>\n",
       "      <th>min_mwst_sl</th>\n",
       "    </tr>\n",
       "  </thead>\n",
       "  <tbody>\n",
       "    <tr>\n",
       "      <th>0</th>\n",
       "      <td>2021</td>\n",
       "      <td>0</td>\n",
       "    </tr>\n",
       "  </tbody>\n",
       "</table>\n",
       "</div>"
      ],
      "text/plain": [
       "   year  min_mwst_sl\n",
       "0  2021            0"
      ]
     },
     "execution_count": 18,
     "metadata": {},
     "output_type": "execute_result"
    }
   ],
   "source": [
    "# Minimum from raw table\n",
    "\n",
    "mwst_min = hive.run(\"\"\"\n",
    "SELECT year, min(tick) AS min_mwst_sl\n",
    "FROM event.mediawiki_client_session_tick\n",
    "WHERE year = 2021\n",
    "  AND month=1 \n",
    "  AND day>=6 AND day<22\n",
    "  AND is_wmf_domain\n",
    "  --adding filter for removing non-wmf events\n",
    "GROUP BY year\n",
    "\"\"\")\n",
    "mwst_min"
   ]
  },
  {
   "cell_type": "code",
   "execution_count": 19,
   "metadata": {},
   "outputs": [
    {
     "data": {
      "text/html": [
       "<div>\n",
       "<style scoped>\n",
       "    .dataframe tbody tr th:only-of-type {\n",
       "        vertical-align: middle;\n",
       "    }\n",
       "\n",
       "    .dataframe tbody tr th {\n",
       "        vertical-align: top;\n",
       "    }\n",
       "\n",
       "    .dataframe thead th {\n",
       "        text-align: right;\n",
       "    }\n",
       "</style>\n",
       "<table border=\"1\" class=\"dataframe\">\n",
       "  <thead>\n",
       "    <tr style=\"text-align: right;\">\n",
       "      <th></th>\n",
       "      <th>year</th>\n",
       "      <th>min_sl</th>\n",
       "    </tr>\n",
       "  </thead>\n",
       "  <tbody>\n",
       "    <tr>\n",
       "      <th>0</th>\n",
       "      <td>2021</td>\n",
       "      <td>0</td>\n",
       "    </tr>\n",
       "  </tbody>\n",
       "</table>\n",
       "</div>"
      ],
      "text/plain": [
       "   year  min_sl\n",
       "0  2021       0"
      ]
     },
     "execution_count": 19,
     "metadata": {},
     "output_type": "execute_result"
    }
   ],
   "source": [
    "# Minimum from sessionized table\n",
    "sl_min = hive.run(\"\"\"\n",
    "SELECT year, min(session_length) AS min_sl\n",
    "FROM mforns.session_length_daily\n",
    "WHERE year = 2021 AND day>=6\n",
    "GROUP BY year\n",
    "\"\"\")\n",
    "sl_min"
   ]
  },
  {
   "cell_type": "code",
   "execution_count": 20,
   "metadata": {},
   "outputs": [
    {
     "data": {
      "text/html": [
       "<div>\n",
       "<style scoped>\n",
       "    .dataframe tbody tr th:only-of-type {\n",
       "        vertical-align: middle;\n",
       "    }\n",
       "\n",
       "    .dataframe tbody tr th {\n",
       "        vertical-align: top;\n",
       "    }\n",
       "\n",
       "    .dataframe thead th {\n",
       "        text-align: right;\n",
       "    }\n",
       "</style>\n",
       "<table border=\"1\" class=\"dataframe\">\n",
       "  <thead>\n",
       "    <tr style=\"text-align: right;\">\n",
       "      <th></th>\n",
       "      <th>year</th>\n",
       "      <th>max_mwst_sl</th>\n",
       "    </tr>\n",
       "  </thead>\n",
       "  <tbody>\n",
       "    <tr>\n",
       "      <th>0</th>\n",
       "      <td>2021</td>\n",
       "      <td>32551</td>\n",
       "    </tr>\n",
       "  </tbody>\n",
       "</table>\n",
       "</div>"
      ],
      "text/plain": [
       "   year  max_mwst_sl\n",
       "0  2021        32551"
      ]
     },
     "execution_count": 20,
     "metadata": {},
     "output_type": "execute_result"
    }
   ],
   "source": [
    "# Max value from raw table\n",
    "\n",
    "mwst_max = hive.run(\"\"\"\n",
    "SELECT year, max(tick) AS max_mwst_sl\n",
    "FROM event.mediawiki_client_session_tick\n",
    "WHERE year = 2021\n",
    "  AND month=1 \n",
    "  AND day>=6 AND day<22\n",
    "  AND is_wmf_domain\n",
    "  --adding filter for removing non-wmf events\n",
    "GROUP BY year\n",
    "\"\"\")\n",
    "mwst_max"
   ]
  },
  {
   "cell_type": "code",
   "execution_count": 21,
   "metadata": {},
   "outputs": [
    {
     "data": {
      "text/html": [
       "<div>\n",
       "<style scoped>\n",
       "    .dataframe tbody tr th:only-of-type {\n",
       "        vertical-align: middle;\n",
       "    }\n",
       "\n",
       "    .dataframe tbody tr th {\n",
       "        vertical-align: top;\n",
       "    }\n",
       "\n",
       "    .dataframe thead th {\n",
       "        text-align: right;\n",
       "    }\n",
       "</style>\n",
       "<table border=\"1\" class=\"dataframe\">\n",
       "  <thead>\n",
       "    <tr style=\"text-align: right;\">\n",
       "      <th></th>\n",
       "      <th>year</th>\n",
       "      <th>max_sl</th>\n",
       "    </tr>\n",
       "  </thead>\n",
       "  <tbody>\n",
       "    <tr>\n",
       "      <th>0</th>\n",
       "      <td>2021</td>\n",
       "      <td>32551</td>\n",
       "    </tr>\n",
       "  </tbody>\n",
       "</table>\n",
       "</div>"
      ],
      "text/plain": [
       "   year  max_sl\n",
       "0  2021   32551"
      ]
     },
     "execution_count": 21,
     "metadata": {},
     "output_type": "execute_result"
    }
   ],
   "source": [
    "# Max value from sessionized table\n",
    "sl_max = hive.run(\"\"\"\n",
    "SELECT year, max(session_length) AS max_sl\n",
    "FROM mforns.session_length_daily\n",
    "WHERE year = 2021 AND day>=6\n",
    "GROUP BY year\n",
    "\"\"\")\n",
    "sl_max"
   ]
  },
  {
   "cell_type": "markdown",
   "metadata": {},
   "source": [
    "Min and Max values between the tables checks out"
   ]
  },
  {
   "cell_type": "markdown",
   "metadata": {},
   "source": [
    "### 4. Tick checks on raw table"
   ]
  },
  {
   "cell_type": "code",
   "execution_count": 22,
   "metadata": {},
   "outputs": [],
   "source": [
    "# Count Ticks from raw table\n",
    "\n",
    "mwst_tick = hive.run(\"\"\"\n",
    "SELECT\n",
    "  SUM(CAST(tick=0 AS int)) AS tick_0,\n",
    "  SUM(CAST(tick=1 AS int)) AS tick_1,\n",
    "  SUM(CAST(tick=2 AS int)) AS tick_2,\n",
    "  SUM(CAST(tick=3 AS int)) AS tick_3,\n",
    "  SUM(CAST(tick=4 AS int)) AS tick_4,\n",
    "  SUM(CAST(tick=5 AS int)) AS tick_5,\n",
    "  SUM(CAST(tick>5 AND tick<=10 AS int)) AS tick_5to10,\n",
    "  SUM(CAST(tick>10 AND tick<=20 AS int)) AS tick_10to20,\n",
    "  SUM(CAST(tick>20 AND tick<=50 AS int)) AS tick_20to50,\n",
    "  SUM(CAST(tick>50 AS int)) AS tick_greater50\n",
    "FROM event.mediawiki_client_session_tick\n",
    "WHERE\n",
    "  year = 2021 \n",
    "  AND month=1 AND day>=6 AND day < 22\n",
    "  AND is_wmf_domain\n",
    "  --adding filter for removing non-wmf events\n",
    "\"\"\")"
   ]
  },
  {
   "cell_type": "code",
   "execution_count": 23,
   "metadata": {},
   "outputs": [
    {
     "data": {
      "text/html": [
       "<div>\n",
       "<style scoped>\n",
       "    .dataframe tbody tr th:only-of-type {\n",
       "        vertical-align: middle;\n",
       "    }\n",
       "\n",
       "    .dataframe tbody tr th {\n",
       "        vertical-align: top;\n",
       "    }\n",
       "\n",
       "    .dataframe thead th {\n",
       "        text-align: right;\n",
       "    }\n",
       "</style>\n",
       "<table border=\"1\" class=\"dataframe\">\n",
       "  <thead>\n",
       "    <tr style=\"text-align: right;\">\n",
       "      <th></th>\n",
       "      <th>tick_0</th>\n",
       "      <th>tick_1</th>\n",
       "      <th>tick_2</th>\n",
       "      <th>tick_3</th>\n",
       "      <th>tick_4</th>\n",
       "      <th>tick_5</th>\n",
       "      <th>tick_5to10</th>\n",
       "      <th>tick_10to20</th>\n",
       "      <th>tick_20to50</th>\n",
       "      <th>tick_greater50</th>\n",
       "    </tr>\n",
       "  </thead>\n",
       "  <tbody>\n",
       "    <tr>\n",
       "      <th>0</th>\n",
       "      <td>39436467</td>\n",
       "      <td>29438781</td>\n",
       "      <td>24793339</td>\n",
       "      <td>21854179</td>\n",
       "      <td>19702076</td>\n",
       "      <td>18001007</td>\n",
       "      <td>72213597</td>\n",
       "      <td>90677636</td>\n",
       "      <td>89257222</td>\n",
       "      <td>36674462</td>\n",
       "    </tr>\n",
       "  </tbody>\n",
       "</table>\n",
       "</div>"
      ],
      "text/plain": [
       "     tick_0    tick_1    tick_2    tick_3    tick_4    tick_5  tick_5to10  \\\n",
       "0  39436467  29438781  24793339  21854179  19702076  18001007    72213597   \n",
       "\n",
       "   tick_10to20  tick_20to50  tick_greater50  \n",
       "0     90677636     89257222        36674462  "
      ]
     },
     "execution_count": 23,
     "metadata": {},
     "output_type": "execute_result"
    }
   ],
   "source": [
    "mwst_tick"
   ]
  },
  {
   "cell_type": "code",
   "execution_count": 24,
   "metadata": {},
   "outputs": [],
   "source": [
    "# Count Ticks from raw table\n",
    "\n",
    "mwsessiontick = hive.run(\"\"\"\n",
    "SELECT\n",
    "  tick,\n",
    "  COUNT(1) AS total_ticks\n",
    "  \n",
    "FROM event.mediawiki_client_session_tick\n",
    "WHERE\n",
    "  year = 2021 \n",
    "  AND month=1 AND day>=6 AND day < 22\n",
    "  AND is_wmf_domain\n",
    "GROUP BY tick HAVING tick<20\n",
    "\"\"\")"
   ]
  },
  {
   "cell_type": "code",
   "execution_count": 25,
   "metadata": {},
   "outputs": [
    {
     "data": {
      "text/html": [
       "<div>\n",
       "<style scoped>\n",
       "    .dataframe tbody tr th:only-of-type {\n",
       "        vertical-align: middle;\n",
       "    }\n",
       "\n",
       "    .dataframe tbody tr th {\n",
       "        vertical-align: top;\n",
       "    }\n",
       "\n",
       "    .dataframe thead th {\n",
       "        text-align: right;\n",
       "    }\n",
       "</style>\n",
       "<table border=\"1\" class=\"dataframe\">\n",
       "  <thead>\n",
       "    <tr style=\"text-align: right;\">\n",
       "      <th></th>\n",
       "      <th>tick</th>\n",
       "      <th>total_ticks</th>\n",
       "    </tr>\n",
       "  </thead>\n",
       "  <tbody>\n",
       "    <tr>\n",
       "      <th>0</th>\n",
       "      <td>0</td>\n",
       "      <td>39436467</td>\n",
       "    </tr>\n",
       "    <tr>\n",
       "      <th>1</th>\n",
       "      <td>1</td>\n",
       "      <td>29438781</td>\n",
       "    </tr>\n",
       "    <tr>\n",
       "      <th>2</th>\n",
       "      <td>2</td>\n",
       "      <td>24793339</td>\n",
       "    </tr>\n",
       "    <tr>\n",
       "      <th>3</th>\n",
       "      <td>3</td>\n",
       "      <td>21854179</td>\n",
       "    </tr>\n",
       "    <tr>\n",
       "      <th>4</th>\n",
       "      <td>4</td>\n",
       "      <td>19702076</td>\n",
       "    </tr>\n",
       "    <tr>\n",
       "      <th>5</th>\n",
       "      <td>5</td>\n",
       "      <td>18001007</td>\n",
       "    </tr>\n",
       "    <tr>\n",
       "      <th>6</th>\n",
       "      <td>6</td>\n",
       "      <td>16591895</td>\n",
       "    </tr>\n",
       "    <tr>\n",
       "      <th>7</th>\n",
       "      <td>7</td>\n",
       "      <td>15386032</td>\n",
       "    </tr>\n",
       "    <tr>\n",
       "      <th>8</th>\n",
       "      <td>8</td>\n",
       "      <td>14327230</td>\n",
       "    </tr>\n",
       "    <tr>\n",
       "      <th>9</th>\n",
       "      <td>9</td>\n",
       "      <td>13381584</td>\n",
       "    </tr>\n",
       "    <tr>\n",
       "      <th>10</th>\n",
       "      <td>10</td>\n",
       "      <td>12526856</td>\n",
       "    </tr>\n",
       "    <tr>\n",
       "      <th>11</th>\n",
       "      <td>11</td>\n",
       "      <td>11749449</td>\n",
       "    </tr>\n",
       "    <tr>\n",
       "      <th>12</th>\n",
       "      <td>12</td>\n",
       "      <td>11035504</td>\n",
       "    </tr>\n",
       "    <tr>\n",
       "      <th>13</th>\n",
       "      <td>13</td>\n",
       "      <td>10377871</td>\n",
       "    </tr>\n",
       "    <tr>\n",
       "      <th>14</th>\n",
       "      <td>14</td>\n",
       "      <td>9767810</td>\n",
       "    </tr>\n",
       "    <tr>\n",
       "      <th>15</th>\n",
       "      <td>15</td>\n",
       "      <td>9197995</td>\n",
       "    </tr>\n",
       "    <tr>\n",
       "      <th>16</th>\n",
       "      <td>16</td>\n",
       "      <td>8665359</td>\n",
       "    </tr>\n",
       "    <tr>\n",
       "      <th>17</th>\n",
       "      <td>17</td>\n",
       "      <td>8161578</td>\n",
       "    </tr>\n",
       "    <tr>\n",
       "      <th>18</th>\n",
       "      <td>18</td>\n",
       "      <td>7684486</td>\n",
       "    </tr>\n",
       "    <tr>\n",
       "      <th>19</th>\n",
       "      <td>19</td>\n",
       "      <td>7233924</td>\n",
       "    </tr>\n",
       "  </tbody>\n",
       "</table>\n",
       "</div>"
      ],
      "text/plain": [
       "    tick  total_ticks\n",
       "0      0     39436467\n",
       "1      1     29438781\n",
       "2      2     24793339\n",
       "3      3     21854179\n",
       "4      4     19702076\n",
       "5      5     18001007\n",
       "6      6     16591895\n",
       "7      7     15386032\n",
       "8      8     14327230\n",
       "9      9     13381584\n",
       "10    10     12526856\n",
       "11    11     11749449\n",
       "12    12     11035504\n",
       "13    13     10377871\n",
       "14    14      9767810\n",
       "15    15      9197995\n",
       "16    16      8665359\n",
       "17    17      8161578\n",
       "18    18      7684486\n",
       "19    19      7233924"
      ]
     },
     "execution_count": 25,
     "metadata": {},
     "output_type": "execute_result"
    }
   ],
   "source": [
    "mwsessiontick"
   ]
  },
  {
   "cell_type": "markdown",
   "metadata": {},
   "source": [
    "#### Plot of the number of Ticks in raw table (mediawiki_client_session_tick) "
   ]
  },
  {
   "cell_type": "code",
   "execution_count": 26,
   "metadata": {},
   "outputs": [
    {
     "data": {
      "image/png": "[encoded data removed]",
      "text/plain": [
       "<Figure size 432x288 with 1 Axes>"
      ]
     },
     "metadata": {
      "needs_background": "light"
     },
     "output_type": "display_data"
    }
   ],
   "source": [
    "ax = mwsessiontick.plot(x='tick', y='total_ticks', kind='bar')\n",
    "ax.yaxis.set_major_formatter(mpl('{x:,.0f}'))\n",
    "plt.show()"
   ]
  },
  {
   "cell_type": "markdown",
   "metadata": {},
   "source": [
    "Count of Tick 0s is greater than all other ticks in the raw table which is ideal."
   ]
  },
  {
   "cell_type": "markdown",
   "metadata": {},
   "source": [
    "## 5. Percentile Compare \n",
    "The session length metric allows us to calculate percentiles (% of sessions lasting up to some length, % of sessions lasting at least some length). It is important to check if the percentiles calculated from the raw table are similar to the percentiles calculated from the data in the intermediate table.\n",
    "For this we will first calculate the differences in session lengths observed in the raw table and sessionized table. We will then build a histogram of the values to illustrate the differences and then calculate percentiles of sessions to compare the values between the two tables. \n",
    "\n"
   ]
  },
  {
   "cell_type": "markdown",
   "metadata": {},
   "source": [
    "#### 5.1 Compare session length for Jan 19, 2021"
   ]
  },
  {
   "cell_type": "code",
   "execution_count": 34,
   "metadata": {},
   "outputs": [],
   "source": [
    "#For 2021, Month=1, day=19\n",
    "\n",
    "histogram_query_0119 = \"\"\"\n",
    "with tick_histogram as (\n",
    "    select\n",
    "        tick,\n",
    "        count(1) as freq\n",
    "    from event.mediawiki_client_session_tick\n",
    "    where\n",
    "        year=2021 and\n",
    "        month=1 and\n",
    "        day=19\n",
    "        AND is_wmf_domain\n",
    "    group by tick\n",
    "    order by tick asc\n",
    "    limit 1000\n",
    "),\n",
    "session_histogram_from_raw as (\n",
    "    select\n",
    "        one.tick as session_length,\n",
    "        one.freq - coalesce(two.freq, 0) as freq\n",
    "    from tick_histogram as one\n",
    "    left join tick_histogram as two\n",
    "    on one.tick + 1 = two.tick\n",
    "),\n",
    "session_histogram_from_intermediate as (\n",
    "    select\n",
    "        session_length,\n",
    "        count(1) as freq\n",
    "    from mforns.session_length_daily\n",
    "    where\n",
    "        year=2021 and\n",
    "        month=1 and\n",
    "        day=19\n",
    "    group by session_length\n",
    "    order by session_length asc\n",
    "    limit 1000\n",
    ")\n",
    "select\n",
    "    coalesce(raw.session_length, itm.session_length) as session_length,\n",
    "    coalesce(raw.freq, 0) as raw_freq,\n",
    "    coalesce(itm.freq, 0) as itm_freq,\n",
    "    coalesce(itm.freq, 0) - coalesce(raw.freq, 0) as offset\n",
    "from session_histogram_from_raw as raw\n",
    "full outer join session_histogram_from_intermediate as itm\n",
    "    on raw.session_length = itm.session_length\n",
    ";\n",
    "\"\"\"\n"
   ]
  },
  {
   "cell_type": "code",
   "execution_count": 35,
   "metadata": {},
   "outputs": [],
   "source": [
    "compare_hist_0119=hive.run(histogram_query_0119)"
   ]
  },
  {
   "cell_type": "markdown",
   "metadata": {},
   "source": [
    "The table below provides difference between number of sessions of a certain length in the raw and intermediate table.  \n",
    "Positive offset values indicate that number of sessions in the intermediate table is greater than raw table and negative offset indicates vice versa. \n"
   ]
  },
  {
   "cell_type": "code",
   "execution_count": 36,
   "metadata": {},
   "outputs": [
    {
     "data": {
      "text/html": [
       "<div>\n",
       "<style scoped>\n",
       "    .dataframe tbody tr th:only-of-type {\n",
       "        vertical-align: middle;\n",
       "    }\n",
       "\n",
       "    .dataframe tbody tr th {\n",
       "        vertical-align: top;\n",
       "    }\n",
       "\n",
       "    .dataframe thead th {\n",
       "        text-align: right;\n",
       "    }\n",
       "</style>\n",
       "<table border=\"1\" class=\"dataframe\">\n",
       "  <thead>\n",
       "    <tr style=\"text-align: right;\">\n",
       "      <th></th>\n",
       "      <th>session_length</th>\n",
       "      <th>raw_freq</th>\n",
       "      <th>itm_freq</th>\n",
       "      <th>offset</th>\n",
       "    </tr>\n",
       "  </thead>\n",
       "  <tbody>\n",
       "    <tr>\n",
       "      <th>0</th>\n",
       "      <td>0</td>\n",
       "      <td>682584</td>\n",
       "      <td>682582</td>\n",
       "      <td>-2</td>\n",
       "    </tr>\n",
       "    <tr>\n",
       "      <th>1</th>\n",
       "      <td>1</td>\n",
       "      <td>318181</td>\n",
       "      <td>318187</td>\n",
       "      <td>6</td>\n",
       "    </tr>\n",
       "    <tr>\n",
       "      <th>2</th>\n",
       "      <td>2</td>\n",
       "      <td>202436</td>\n",
       "      <td>202432</td>\n",
       "      <td>-4</td>\n",
       "    </tr>\n",
       "    <tr>\n",
       "      <th>3</th>\n",
       "      <td>3</td>\n",
       "      <td>148724</td>\n",
       "      <td>148725</td>\n",
       "      <td>1</td>\n",
       "    </tr>\n",
       "    <tr>\n",
       "      <th>4</th>\n",
       "      <td>4</td>\n",
       "      <td>118356</td>\n",
       "      <td>118344</td>\n",
       "      <td>-12</td>\n",
       "    </tr>\n",
       "  </tbody>\n",
       "</table>\n",
       "</div>"
      ],
      "text/plain": [
       "   session_length  raw_freq  itm_freq  offset\n",
       "0               0    682584    682582      -2\n",
       "1               1    318181    318187       6\n",
       "2               2    202436    202432      -4\n",
       "3               3    148724    148725       1\n",
       "4               4    118356    118344     -12"
      ]
     },
     "execution_count": 36,
     "metadata": {},
     "output_type": "execute_result"
    }
   ],
   "source": [
    "compare_hist_0119.head()"
   ]
  },
  {
   "cell_type": "code",
   "execution_count": 37,
   "metadata": {},
   "outputs": [
    {
     "data": {
      "text/plain": [
       "Text(0, 0.5, 'number_of_sessions')"
      ]
     },
     "execution_count": 37,
     "metadata": {},
     "output_type": "execute_result"
    },
    {
     "data": {
      "image/png": "[encoded data removed]",
      "text/plain": [
       "<Figure size 432x288 with 1 Axes>"
      ]
     },
     "metadata": {
      "needs_background": "light"
     },
     "output_type": "display_data"
    }
   ],
   "source": [
    "#plot the distribution\n",
    "histogram_0119=plt.hist(compare_hist_0119['offset'], 100)\n",
    "plt.xlabel('offset')\n",
    "plt.ylabel('number_of_sessions')\n",
    "                  "
   ]
  },
  {
   "cell_type": "code",
   "execution_count": 40,
   "metadata": {},
   "outputs": [
    {
     "data": {
      "text/plain": [
       "(363, 4)"
      ]
     },
     "execution_count": 40,
     "metadata": {},
     "output_type": "execute_result"
    }
   ],
   "source": [
    "compare_hist0119_nonzero = compare_hist_0119[compare_hist_0119['offset'] !=0]\n",
    "compare_hist0119_nonzero.shape"
   ]
  },
  {
   "cell_type": "markdown",
   "metadata": {},
   "source": [
    "The graph shows that most session lengths have equal number of sessions between the two tables. The few session lengths that are different have a small variation in the number of sessions.     \n",
    "\n",
    "\n",
    "To calculate percentiles we will run a python script on the hive query for data from Jan 20, 2021, that will give us the proportion of sessions lasting at least some length from raw and intermediate tables. "
   ]
  },
  {
   "cell_type": "code",
   "execution_count": 32,
   "metadata": {},
   "outputs": [],
   "source": [
    "#Python Script for calculating and comparing percentile\n",
    "\n",
    "import re\n",
    "import sys\n",
    "data = []\n",
    "for line in sys.stdin:\n",
    "    row = [int(v) for v in re.split(r'\\t+', line)]\n",
    "    data.append(row)\n",
    "total_sessions_raw = sum([row[1] for row in data])\n",
    "total_sessions_itm = sum([row[2] for row in data])\n",
    "cumulative_sessions_raw = 0\n",
    "cumulative_sessions_itm = 0\n",
    "for row in data:\n",
    "    cumulative_sessions_raw += row[1]\n",
    "    cumulative_sessions_itm += row[2]\n",
    "    decorated_row = row + [\n",
    "        cumulative_sessions_raw / total_sessions_raw,\n",
    "        cumulative_sessions_itm / total_sessions_itm\n",
    "    ]\n",
    "    print(*decorated_row)"
   ]
  },
  {
   "cell_type": "code",
   "execution_count": null,
   "metadata": {},
   "outputs": [],
   "source": [
    "hive -f sl_daily_compare_percentile_0119.hql 2> /dev/null > sl_daily_compare_percentile_output_0119.tsv"
   ]
  },
  {
   "cell_type": "code",
   "execution_count": null,
   "metadata": {},
   "outputs": [],
   "source": [
    "tail -n +2 sl_daily_compare_percentile_output_0119.tsv | python3 session_length_decorate_histograms.py | tee sl_daily_compare_percentile_output_0119.log"
   ]
  },
  {
   "cell_type": "markdown",
   "metadata": {},
   "source": [
    "_Complete Output of the py script is provided in_ [sl_daily_compare_percentile_output_0119.log](https://github.com/wikimedia-research/Session-Length-Metric/blob/main/Data-QA/sl_daily_compare_percentile_output_0119.log)\n",
    "\n"
   ]
  },
  {
   "cell_type": "markdown",
   "metadata": {},
   "source": [
    "#### 5.2 Compare session length for a wiki (example:Catalan wikipedia)"
   ]
  },
  {
   "cell_type": "code",
   "execution_count": 41,
   "metadata": {},
   "outputs": [],
   "source": [
    "# Count frequency of Ticks from raw table \n",
    "# Count frequency of session lengths from intermediate table\n",
    "# calculate a histogram of ticks and then do a self-join to do the subtraction \n",
    "\n",
    "#For wiki= cawiki\n",
    "cawiki_histogram_queries = \"\"\"\n",
    "with tick_histogram as (\n",
    "    select\n",
    "        tick,\n",
    "        count(1) as freq\n",
    "    from event.mediawiki_client_session_tick\n",
    "    where\n",
    "        year=2021 and\n",
    "        month=1 \n",
    "        AND day>=6 AND day<22 \n",
    "        AND is_wmf_domain and\n",
    "        meta.domain IN ('ca.wikipedia.org', 'ca.m.wikipedia.org')\n",
    "    group by tick\n",
    "    order by tick asc\n",
    "    limit 1000\n",
    "),\n",
    "session_histogram_from_raw as (\n",
    "    select\n",
    "        one.tick as session_length,\n",
    "        one.freq - coalesce(two.freq, 0) as freq\n",
    "    from tick_histogram as one\n",
    "    left join tick_histogram as two\n",
    "    on one.tick + 1 = two.tick\n",
    "),\n",
    "session_histogram_from_intermediate as (\n",
    "    select\n",
    "        session_length,\n",
    "        count(1) as freq\n",
    "    from mforns.session_length_daily\n",
    "    where\n",
    "        year=2021 AND day>=6 and\n",
    "        wiki='ca.wikipedia'\n",
    "\n",
    "    group by session_length\n",
    "    order by session_length asc\n",
    "    limit 1000\n",
    ")\n",
    "select\n",
    "    coalesce(raw.session_length, itm.session_length) as session_length,\n",
    "    coalesce(raw.freq, 0) as raw_freq,\n",
    "    coalesce(itm.freq, 0) as itm_freq,\n",
    "    coalesce(itm.freq, 0) - coalesce(raw.freq, 0) as offset\n",
    "from session_histogram_from_raw as raw\n",
    "full outer join session_histogram_from_intermediate as itm\n",
    "    on raw.session_length = itm.session_length\n",
    ";\n",
    "\"\"\"\n"
   ]
  },
  {
   "cell_type": "code",
   "execution_count": 42,
   "metadata": {},
   "outputs": [],
   "source": [
    "cawiki_compare_histogram=hive.run(cawiki_histogram_queries)"
   ]
  },
  {
   "cell_type": "code",
   "execution_count": 43,
   "metadata": {},
   "outputs": [
    {
     "data": {
      "text/plain": [
       "Text(0, 0.5, 'number_of_sessions')"
      ]
     },
     "execution_count": 43,
     "metadata": {},
     "output_type": "execute_result"
    },
    {
     "data": {
      "image/png": "[encoded data removed]",
      "text/plain": [
       "<Figure size 432x288 with 1 Axes>"
      ]
     },
     "metadata": {
      "needs_background": "light"
     },
     "output_type": "display_data"
    }
   ],
   "source": [
    "#plot the distribution of differences for cawiki\n",
    "cawiki_histogram=plt.hist(cawiki_compare_histogram['offset'], 10)\n",
    "plt.xlabel('offset')\n",
    "plt.ylabel('number_of_sessions')\n",
    "                  "
   ]
  },
  {
   "cell_type": "markdown",
   "metadata": {},
   "source": [
    "Cawiki is closer to the UTC time zone and will not be greatly affected by the end of day capping of the sessionized table. Hence there isn't a huge difference in the sessions between the two tables.\n",
    "Let's look at another wiki that is farther from UTC. "
   ]
  },
  {
   "cell_type": "markdown",
   "metadata": {},
   "source": [
    "#### 5.3 Compare session length for a wiki (example: English wiktionary)"
   ]
  },
  {
   "cell_type": "code",
   "execution_count": 44,
   "metadata": {},
   "outputs": [],
   "source": [
    "# Count frequency of Ticks from raw table \n",
    "# Count frequency of session lengths from intermediate table\n",
    "# calculate a histogram of ticks and then do a self-join to do the subtraction \n",
    "\n",
    "#For wiki= en.wiktionary\n",
    "enwikt_histogram_queries = \"\"\"\n",
    "with tick_histogram as (\n",
    "    select\n",
    "        tick,\n",
    "        count(1) as freq\n",
    "    from event.mediawiki_client_session_tick\n",
    "    where\n",
    "        year=2021 and\n",
    "        month=1 and\n",
    "        day>=6 AND day<22 \n",
    "        AND is_wmf_domain and\n",
    "        meta.domain IN ('en.wiktionary.org', 'en.m.wiktionary.org')\n",
    "    group by tick\n",
    "    order by tick asc\n",
    "    limit 1000\n",
    "),\n",
    "session_histogram_from_raw as (\n",
    "    select\n",
    "        one.tick as session_length,\n",
    "        one.freq - coalesce(two.freq, 0) as freq\n",
    "    from tick_histogram as one\n",
    "    left join tick_histogram as two\n",
    "    on one.tick + 1 = two.tick\n",
    "),\n",
    "session_histogram_from_intermediate as (\n",
    "    select\n",
    "        session_length,\n",
    "        count(1) as freq\n",
    "    from mforns.session_length_daily\n",
    "    where\n",
    "        year=2021 AND day>=6 and\n",
    "        wiki='en.wiktionary'\n",
    "\n",
    "    group by session_length\n",
    "    order by session_length asc\n",
    "    limit 1000\n",
    ")\n",
    "select\n",
    "    coalesce(raw.session_length, itm.session_length) as session_length,\n",
    "    coalesce(raw.freq, 0) as raw_freq,\n",
    "    coalesce(itm.freq, 0) as itm_freq,\n",
    "    coalesce(itm.freq, 0) - coalesce(raw.freq, 0) as offset\n",
    "from session_histogram_from_raw as raw\n",
    "full outer join session_histogram_from_intermediate as itm\n",
    "    on raw.session_length = itm.session_length\n",
    ";\n",
    "\"\"\"\n"
   ]
  },
  {
   "cell_type": "code",
   "execution_count": 45,
   "metadata": {},
   "outputs": [],
   "source": [
    "enwikt_compare_histogram=hive.run(enwikt_histogram_queries)"
   ]
  },
  {
   "cell_type": "code",
   "execution_count": 46,
   "metadata": {},
   "outputs": [
    {
     "data": {
      "text/plain": [
       "Text(0, 0.5, 'number_of_sessions')"
      ]
     },
     "execution_count": 46,
     "metadata": {},
     "output_type": "execute_result"
    },
    {
     "data": {
      "image/png": "[encoded data removed]",
      "text/plain": [
       "<Figure size 432x288 with 1 Axes>"
      ]
     },
     "metadata": {
      "needs_background": "light"
     },
     "output_type": "display_data"
    }
   ],
   "source": [
    "#plot the distribution of differences for cawiki\n",
    "enwikt_compare_hist=plt.hist(enwikt_compare_histogram['offset'], 100)\n",
    "plt.xlabel('offset')\n",
    "plt.ylabel('number_of_sessions')"
   ]
  },
  {
   "cell_type": "code",
   "execution_count": 47,
   "metadata": {},
   "outputs": [
    {
     "data": {
      "text/plain": [
       "(417, 4)"
      ]
     },
     "execution_count": 47,
     "metadata": {},
     "output_type": "execute_result"
    }
   ],
   "source": [
    "enwikt_not_0 = enwikt_compare_histogram[enwikt_compare_histogram['offset'] != 0]\n",
    "enwikt_not_0.shape"
   ]
  },
  {
   "cell_type": "markdown",
   "metadata": {},
   "source": [
    "There are more number of sessions that are different between the two tables however their differences are below +/- 100 sessions. "
   ]
  },
  {
   "cell_type": "markdown",
   "metadata": {},
   "source": [
    "Let's calculate percentiles on all the data we have in the sessionized table and corresponding data from raw table (without date or wiki filters)"
   ]
  },
  {
   "cell_type": "code",
   "execution_count": 48,
   "metadata": {},
   "outputs": [],
   "source": [
    "# Count frequency of Ticks from raw table \n",
    "# Count frequency of session lengths from intermediate table\n",
    "# calculate a histogram of ticks and then do a self-join to do the subtraction \n",
    "\n",
    "#For all days and all wikis\n",
    "histogram_queries = \"\"\"\n",
    "with tick_histogram as (\n",
    "    select\n",
    "        tick,\n",
    "        count(1) as freq\n",
    "    from event.mediawiki_client_session_tick\n",
    "    where\n",
    "        year=2021 and\n",
    "        month=1 \n",
    "        AND day>=6 and day<22 \n",
    "        AND is_wmf_domain\n",
    "    group by tick\n",
    "    order by tick asc\n",
    "    limit 1000\n",
    "),\n",
    "session_histogram_from_raw as (\n",
    "    select\n",
    "        one.tick as session_length,\n",
    "        one.freq - coalesce(two.freq, 0) as freq\n",
    "    from tick_histogram as one\n",
    "    left join tick_histogram as two\n",
    "    on one.tick + 1 = two.tick\n",
    "),\n",
    "session_histogram_from_intermediate as (\n",
    "    select\n",
    "        session_length,\n",
    "        count(1) as freq\n",
    "    from mforns.session_length_daily\n",
    "    where\n",
    "        year=2021 AND day>=6\n",
    "\n",
    "    group by session_length\n",
    "    order by session_length asc\n",
    "    limit 1000\n",
    ")\n",
    "select\n",
    "    coalesce(raw.session_length, itm.session_length) as session_length,\n",
    "    coalesce(raw.freq, 0) as raw_freq,\n",
    "    coalesce(itm.freq, 0) as itm_freq,\n",
    "    coalesce(itm.freq, 0) - coalesce(raw.freq, 0) as offset\n",
    "from session_histogram_from_raw as raw\n",
    "full outer join session_histogram_from_intermediate as itm\n",
    "    on raw.session_length = itm.session_length\n",
    ";\n",
    "\"\"\"\n"
   ]
  },
  {
   "cell_type": "code",
   "execution_count": 49,
   "metadata": {},
   "outputs": [],
   "source": [
    "hist_compare=hive.run(histogram_queries)"
   ]
  },
  {
   "cell_type": "code",
   "execution_count": 52,
   "metadata": {},
   "outputs": [
    {
     "data": {
      "text/plain": [
       "Text(0, 0.5, 'number_of_sessions')"
      ]
     },
     "execution_count": 52,
     "metadata": {},
     "output_type": "execute_result"
    },
    {
     "data": {
      "image/png": "[encoded data removed]",
      "text/plain": [
       "<Figure size 432x288 with 1 Axes>"
      ]
     },
     "metadata": {
      "needs_background": "light"
     },
     "output_type": "display_data"
    }
   ],
   "source": [
    "#plot the distribution of differences \n",
    "hist_compare_all=plt.hist(hist_compare['offset'], 100)\n",
    "plt.xlabel('offset')\n",
    "plt.ylabel('number_of_sessions')\n",
    "                  "
   ]
  },
  {
   "cell_type": "code",
   "execution_count": 51,
   "metadata": {},
   "outputs": [
    {
     "data": {
      "text/plain": [
       "(792, 4)"
      ]
     },
     "execution_count": 51,
     "metadata": {},
     "output_type": "execute_result"
    }
   ],
   "source": [
    "diff_not_0 = hist_compare[hist_compare['offset'] != 0]\n",
    "diff_not_0.shape"
   ]
  },
  {
   "cell_type": "markdown",
   "metadata": {},
   "source": [
    "When we compare All of the data in the two tables, we see that very few session lengths that have the same number of sessions in the two tables ie majority of the session lengths are non-zero, which is concerning.      \n",
    "Hence we will calculate the percentiles of the session lengths and compare the values. "
   ]
  },
  {
   "cell_type": "code",
   "execution_count": null,
   "metadata": {},
   "outputs": [],
   "source": [
    "hive -f sl_daily_compare_percentile.hql 2> /dev/null > sl_daily_compare_percentile_output.tsv"
   ]
  },
  {
   "cell_type": "code",
   "execution_count": null,
   "metadata": {},
   "outputs": [],
   "source": [
    "tail -n +2 sl_daily_compare_percentile_output.tsv | python3 session_length_decorate_histograms.py | tee sl_daily_compare_percentile_output.log"
   ]
  },
  {
   "cell_type": "markdown",
   "metadata": {},
   "source": [
    "_Complete Output of the py script is provided in_ [sl_daily_compare_percentile_output.log](https://github.com/wikimedia-research/Session-Length-Metric/blob/main/Data-QA/sl_daily_compare_percentile_output.log)\n",
    "\n",
    "\n",
    "The Percentile values are almost the same between the two tables.   \n",
    "**Conclusion** : Eventhough the overall duration of all sessions and count of sessions between the raw and intermediate table is slightly different we have verified that it has no impact to the session length metric (percentiles). \n"
   ]
  },
  {
   "cell_type": "code",
   "execution_count": null,
   "metadata": {},
   "outputs": [],
   "source": []
  },
  {
   "cell_type": "code",
   "execution_count": null,
   "metadata": {},
   "outputs": [],
   "source": []
  },
  {
   "cell_type": "code",
   "execution_count": null,
   "metadata": {},
   "outputs": [],
   "source": []
  },
  {
   "cell_type": "code",
   "execution_count": null,
   "metadata": {},
   "outputs": [],
   "source": []
  }
 ],
 "metadata": {
  "kernelspec": {
   "display_name": "Python 3",
   "language": "python",
   "name": "python3"
  },
  "language_info": {
   "codemirror_mode": {
    "name": "ipython",
    "version": 3
   },
   "file_extension": ".py",
   "mimetype": "text/x-python",
   "name": "python",
   "nbconvert_exporter": "python",
   "pygments_lexer": "ipython3",
   "version": "3.7.3"
  }
 },
 "nbformat": 4,
 "nbformat_minor": 4
}

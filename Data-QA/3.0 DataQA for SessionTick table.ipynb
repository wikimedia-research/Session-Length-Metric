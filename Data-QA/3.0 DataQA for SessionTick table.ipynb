{
 "cells": [
  {
   "cell_type": "markdown",
   "metadata": {},
   "source": [
    "# [T275672](https://phabricator.wikimedia.org/T275672) Data QA for mediawiki_client_session_tick\n",
    "\n",
    "\n",
    "\n",
    "In this task we will be performing dataQA checks on the event table (aka raw table) [event.mediawiki_client_session_tick](https://gerrit.wikimedia.org/r/plugins/gitiles/schemas/event/secondary/+/refs/heads/master/jsonschema/analytics/session_tick/2.0.0.yaml) and verify if the Instrumentation \n",
    "is working correctly.  \n",
    "\n",
    "Currently the instrumentation is deployed on [all](https://wikitech.wikimedia.org/wiki/Deployments/Train) wikis. _Please note that the raw table is sampled at a rate of 1/10_\n",
    "\n",
    "**Observations from Session Length data-QA of Raw table** \n",
    " \n",
    "- we checked Session Length duration - by day, wiki and browser\n",
    "- Session Length (sampled at 1/100) per day increases from Feb 23 since the instrument was deployed to Group 2 wikis \n",
    "- On Mar 09, the sampling rate was increased to 1/10, which contributed to another sharp rise in the overall session length.\n",
    "- English wikipedia has the longest session length compared to all other  projects.\n",
    "- Time spent on enwiki is almost 50% greater than all other wikis combined.\n",
    "- Chrome and Chrome mobile browser has the longest session length amongst all browsers, followed closely by Mobile Safari.\n",
    "- Count of Tick 0s is greater than all other ticks in the raw table which is ideal.\n",
    "- There aren't any records where tick value is null\n",
    "- Only mediawiki.client.session_tick stream data are in the schema\n"
   ]
  },
  {
   "cell_type": "code",
   "execution_count": 26,
   "metadata": {},
   "outputs": [],
   "source": [
    "import matplotlib.pyplot as plt\n",
    "from matplotlib.ticker import StrMethodFormatter as mpl\n",
    "import numpy as np\n",
    "import pandas as pd\n",
    "from tabulate import tabulate\n",
    "from wmfdata import charting, hive, mariadb\n",
    "from wmfdata.charting import comma_fmt, pct_fmt\n",
    "from wmfdata.utils import df_to_remarkup, pct_str\n",
    "%matplotlib inline\n",
    "import matplotlib.pyplot as plt\n",
    "import matplotlib.ticker as ticker\n",
    "@ticker.FuncFormatter\n",
    "def million_formatter(x, pos):\n",
    "    return \"%d M\" % round(x/1000000)\n",
    "@ticker.FuncFormatter\n",
    "def thousand_formatter(x, pos):\n",
    "    return \"%d K\" % round(x/1000)"
   ]
  },
  {
   "cell_type": "markdown",
   "metadata": {},
   "source": [
    "## 1. Session Length duration \n",
    "Look at the sessions lengths in the raw table.\n",
    "We will do this by Counting all the non-zero Ticks from event table (since one tick is sent every 1 minute)   \n",
    "#### 1.1 Session Length duration by day"
   ]
  },
  {
   "cell_type": "code",
   "execution_count": 2,
   "metadata": {},
   "outputs": [],
   "source": [
    "# Session Length per day from raw table\n",
    "\n",
    "sl_day_mwsessiontick = hive.run(\"\"\"\n",
    "SELECT\n",
    "  date_format(meta.dt, \"yyyy-MM-dd\"),\n",
    "  COUNT(1) AS mwst_sessionlength\n",
    "  \n",
    "FROM event.mediawiki_client_session_tick\n",
    "WHERE\n",
    "  year = 2021 \n",
    "  AND ((month=2 AND day>=20) OR (month=3))\n",
    "  --Since Session tick was deployed to Group 2 wikis on Feb 23, 2021\n",
    "  \n",
    "  AND tick <>0 \n",
    "  --removing tick 0s since we are counting rows of all the ticks received\n",
    "  \n",
    "  AND is_wmf_domain\n",
    "  --adding filter for removing non-wmf events\n",
    "  \n",
    "GROUP BY date_format(meta.dt, \"yyyy-MM-dd\")\n",
    "\"\"\")"
   ]
  },
  {
   "cell_type": "code",
   "execution_count": 3,
   "metadata": {},
   "outputs": [],
   "source": [
    "sl_day_mwsessiontick=sl_day_mwsessiontick.rename(columns={\"_c0\": \"date\"})\n",
    "sl_day_mwsessiontick.sort_values(by=['date'], inplace=True, ascending=True)"
   ]
  },
  {
   "cell_type": "code",
   "execution_count": 4,
   "metadata": {},
   "outputs": [],
   "source": [
    "sl_day_mwsessiontick1=sl_day_mwsessiontick.reset_index()"
   ]
  },
  {
   "cell_type": "code",
   "execution_count": 5,
   "metadata": {},
   "outputs": [
    {
     "data": {
      "image/png": "[encoded data removed]",
      "text/plain": [
       "<Figure size 1152x432 with 1 Axes>"
      ]
     },
     "metadata": {
      "needs_background": "light"
     },
     "output_type": "display_data"
    }
   ],
   "source": [
    "fig, ax = plt.subplots(nrows=1, ncols=1,figsize=(16,6))\n",
    "fig.tight_layout(pad=1, w_pad=0.5, h_pad=6)\n",
    "ax.set_title('Session Length by Date',fontweight=\"bold\",fontsize = 16)\n",
    "ax.set_xlabel('Date',  fontsize = 16)\n",
    "ax.set_ylabel('Session Length',  fontsize = 16)\n",
    "ax.plot(sl_day_mwsessiontick1['date'], \n",
    "        sl_day_mwsessiontick1['mwst_sessionlength'], 'o-', label='Total SL')\n",
    "\n",
    "\n",
    "ax.yaxis.set_major_formatter(million_formatter)\n",
    "#ax.set_xlim(1,10)\n",
    "#ax.set_ylim(2000000,20000000)\n",
    "ax.legend(loc='upper right')\n",
    "\n",
    "plt.show()"
   ]
  },
  {
   "cell_type": "code",
   "execution_count": 6,
   "metadata": {},
   "outputs": [],
   "source": [
    "sl_day_mwsessiontick['mwst_sessionlength'] = sl_day_mwsessiontick.apply(\n",
    "    lambda x: \"{:,}\".format(x['mwst_sessionlength']),axis=1)                         "
   ]
  },
  {
   "cell_type": "markdown",
   "metadata": {},
   "source": [
    "On Feb 23, the instrument was deployed to Group 2 wikis and hence the rise in Session Length per day. The data was sampled at 1/100.    \n",
    "On Mar 09, the sampling rate was increased to 1/10."
   ]
  },
  {
   "cell_type": "code",
   "execution_count": 7,
   "metadata": {},
   "outputs": [
    {
     "data": {
      "text/html": [
       "<div>\n",
       "<style scoped>\n",
       "    .dataframe tbody tr th:only-of-type {\n",
       "        vertical-align: middle;\n",
       "    }\n",
       "\n",
       "    .dataframe tbody tr th {\n",
       "        vertical-align: top;\n",
       "    }\n",
       "\n",
       "    .dataframe thead th {\n",
       "        text-align: right;\n",
       "    }\n",
       "</style>\n",
       "<table border=\"1\" class=\"dataframe\">\n",
       "  <thead>\n",
       "    <tr style=\"text-align: right;\">\n",
       "      <th></th>\n",
       "      <th>date</th>\n",
       "      <th>mwst_sessionlength</th>\n",
       "    </tr>\n",
       "  </thead>\n",
       "  <tbody>\n",
       "    <tr>\n",
       "      <th>9</th>\n",
       "      <td>2021-02-20</td>\n",
       "      <td>295,641</td>\n",
       "    </tr>\n",
       "    <tr>\n",
       "      <th>10</th>\n",
       "      <td>2021-02-21</td>\n",
       "      <td>329,513</td>\n",
       "    </tr>\n",
       "    <tr>\n",
       "      <th>11</th>\n",
       "      <td>2021-02-22</td>\n",
       "      <td>369,406</td>\n",
       "    </tr>\n",
       "    <tr>\n",
       "      <th>12</th>\n",
       "      <td>2021-02-23</td>\n",
       "      <td>3,941,994</td>\n",
       "    </tr>\n",
       "    <tr>\n",
       "      <th>13</th>\n",
       "      <td>2021-02-24</td>\n",
       "      <td>11,734,000</td>\n",
       "    </tr>\n",
       "    <tr>\n",
       "      <th>14</th>\n",
       "      <td>2021-02-25</td>\n",
       "      <td>11,557,614</td>\n",
       "    </tr>\n",
       "    <tr>\n",
       "      <th>15</th>\n",
       "      <td>2021-02-26</td>\n",
       "      <td>11,074,375</td>\n",
       "    </tr>\n",
       "    <tr>\n",
       "      <th>16</th>\n",
       "      <td>2021-02-27</td>\n",
       "      <td>10,515,934</td>\n",
       "    </tr>\n",
       "    <tr>\n",
       "      <th>17</th>\n",
       "      <td>2021-02-28</td>\n",
       "      <td>11,497,425</td>\n",
       "    </tr>\n",
       "    <tr>\n",
       "      <th>0</th>\n",
       "      <td>2021-03-01</td>\n",
       "      <td>12,113,599</td>\n",
       "    </tr>\n",
       "    <tr>\n",
       "      <th>1</th>\n",
       "      <td>2021-03-02</td>\n",
       "      <td>11,846,636</td>\n",
       "    </tr>\n",
       "    <tr>\n",
       "      <th>2</th>\n",
       "      <td>2021-03-03</td>\n",
       "      <td>11,660,161</td>\n",
       "    </tr>\n",
       "    <tr>\n",
       "      <th>3</th>\n",
       "      <td>2021-03-04</td>\n",
       "      <td>11,560,365</td>\n",
       "    </tr>\n",
       "    <tr>\n",
       "      <th>4</th>\n",
       "      <td>2021-03-05</td>\n",
       "      <td>11,096,663</td>\n",
       "    </tr>\n",
       "    <tr>\n",
       "      <th>5</th>\n",
       "      <td>2021-03-06</td>\n",
       "      <td>10,470,039</td>\n",
       "    </tr>\n",
       "    <tr>\n",
       "      <th>6</th>\n",
       "      <td>2021-03-07</td>\n",
       "      <td>11,523,899</td>\n",
       "    </tr>\n",
       "    <tr>\n",
       "      <th>7</th>\n",
       "      <td>2021-03-08</td>\n",
       "      <td>11,913,284</td>\n",
       "    </tr>\n",
       "    <tr>\n",
       "      <th>8</th>\n",
       "      <td>2021-03-09</td>\n",
       "      <td>52,038,829</td>\n",
       "    </tr>\n",
       "    <tr>\n",
       "      <th>18</th>\n",
       "      <td>2021-03-10</td>\n",
       "      <td>59,993,366</td>\n",
       "    </tr>\n",
       "  </tbody>\n",
       "</table>\n",
       "</div>"
      ],
      "text/plain": [
       "          date mwst_sessionlength\n",
       "9   2021-02-20            295,641\n",
       "10  2021-02-21            329,513\n",
       "11  2021-02-22            369,406\n",
       "12  2021-02-23          3,941,994\n",
       "13  2021-02-24         11,734,000\n",
       "14  2021-02-25         11,557,614\n",
       "15  2021-02-26         11,074,375\n",
       "16  2021-02-27         10,515,934\n",
       "17  2021-02-28         11,497,425\n",
       "0   2021-03-01         12,113,599\n",
       "1   2021-03-02         11,846,636\n",
       "2   2021-03-03         11,660,161\n",
       "3   2021-03-04         11,560,365\n",
       "4   2021-03-05         11,096,663\n",
       "5   2021-03-06         10,470,039\n",
       "6   2021-03-07         11,523,899\n",
       "7   2021-03-08         11,913,284\n",
       "8   2021-03-09         52,038,829\n",
       "18  2021-03-10         59,993,366"
      ]
     },
     "execution_count": 7,
     "metadata": {},
     "output_type": "execute_result"
    }
   ],
   "source": [
    "sl_day_mwsessiontick"
   ]
  },
  {
   "cell_type": "markdown",
   "metadata": {},
   "source": [
    "#### 1.2 Session Length duration by wiki"
   ]
  },
  {
   "cell_type": "code",
   "execution_count": 8,
   "metadata": {},
   "outputs": [],
   "source": [
    "# Session Length per wiki from raw table\n",
    "\n",
    "sl_wiki_mwsessiontick = hive.run(\"\"\"\n",
    "SELECT\n",
    "  regexp_replace(meta.domain, '(www\\\\.|\\\\.org|^m\\\\.|\\\\.m)', '') AS wiki,\n",
    "  COUNT(1) AS mwst_sessionlength\n",
    "  \n",
    "FROM event.mediawiki_client_session_tick\n",
    "WHERE\n",
    "  year = 2021 \n",
    "  AND ((month=2 AND day>=20) OR (month=3))\n",
    "  --Since Session tick was deployed to Group 2 wikis on Feb 23, 2021\n",
    "  \n",
    "  AND tick <>0 \n",
    "  --removing tick 0s since we are counting rows of all the ticks received\n",
    "  \n",
    "  AND is_wmf_domain\n",
    "  --adding filter for removing non-wmf events\n",
    "  \n",
    "GROUP BY regexp_replace(meta.domain, '(www\\\\.|\\\\.org|^m\\\\.|\\\\.m)', '')\n",
    "ORDER BY mwst_sessionlength DESC\n",
    "LIMIT 100\n",
    "\"\"\")"
   ]
  },
  {
   "cell_type": "code",
   "execution_count": 23,
   "metadata": {},
   "outputs": [],
   "source": [
    "sl_wiki_mwsessiontick_top10=sl_wiki_mwsessiontick.head(10)"
   ]
  },
  {
   "cell_type": "code",
   "execution_count": 24,
   "metadata": {},
   "outputs": [
    {
     "data": {
      "text/html": [
       "<div>\n",
       "<style scoped>\n",
       "    .dataframe tbody tr th:only-of-type {\n",
       "        vertical-align: middle;\n",
       "    }\n",
       "\n",
       "    .dataframe tbody tr th {\n",
       "        vertical-align: top;\n",
       "    }\n",
       "\n",
       "    .dataframe thead th {\n",
       "        text-align: right;\n",
       "    }\n",
       "</style>\n",
       "<table border=\"1\" class=\"dataframe\">\n",
       "  <thead>\n",
       "    <tr style=\"text-align: right;\">\n",
       "      <th></th>\n",
       "      <th>wiki</th>\n",
       "      <th>mwst_sessionlength</th>\n",
       "    </tr>\n",
       "  </thead>\n",
       "  <tbody>\n",
       "    <tr>\n",
       "      <th>0</th>\n",
       "      <td>en.wikipedia</td>\n",
       "      <td>119883616</td>\n",
       "    </tr>\n",
       "    <tr>\n",
       "      <th>1</th>\n",
       "      <td>es.wikipedia</td>\n",
       "      <td>22620652</td>\n",
       "    </tr>\n",
       "    <tr>\n",
       "      <th>2</th>\n",
       "      <td>ja.wikipedia</td>\n",
       "      <td>16757604</td>\n",
       "    </tr>\n",
       "    <tr>\n",
       "      <th>3</th>\n",
       "      <td>de.wikipedia</td>\n",
       "      <td>15869499</td>\n",
       "    </tr>\n",
       "    <tr>\n",
       "      <th>4</th>\n",
       "      <td>ru.wikipedia</td>\n",
       "      <td>14066546</td>\n",
       "    </tr>\n",
       "    <tr>\n",
       "      <th>5</th>\n",
       "      <td>fr.wikipedia</td>\n",
       "      <td>12653722</td>\n",
       "    </tr>\n",
       "    <tr>\n",
       "      <th>6</th>\n",
       "      <td>it.wikipedia</td>\n",
       "      <td>9257316</td>\n",
       "    </tr>\n",
       "    <tr>\n",
       "      <th>7</th>\n",
       "      <td>zh.wikipedia</td>\n",
       "      <td>5745533</td>\n",
       "    </tr>\n",
       "    <tr>\n",
       "      <th>8</th>\n",
       "      <td>pl.wikipedia</td>\n",
       "      <td>5133303</td>\n",
       "    </tr>\n",
       "    <tr>\n",
       "      <th>9</th>\n",
       "      <td>pt.wikipedia</td>\n",
       "      <td>4982088</td>\n",
       "    </tr>\n",
       "  </tbody>\n",
       "</table>\n",
       "</div>"
      ],
      "text/plain": [
       "           wiki  mwst_sessionlength\n",
       "0  en.wikipedia           119883616\n",
       "1  es.wikipedia            22620652\n",
       "2  ja.wikipedia            16757604\n",
       "3  de.wikipedia            15869499\n",
       "4  ru.wikipedia            14066546\n",
       "5  fr.wikipedia            12653722\n",
       "6  it.wikipedia             9257316\n",
       "7  zh.wikipedia             5745533\n",
       "8  pl.wikipedia             5133303\n",
       "9  pt.wikipedia             4982088"
      ]
     },
     "execution_count": 24,
     "metadata": {},
     "output_type": "execute_result"
    }
   ],
   "source": [
    "sl_wiki_mwsessiontick_top10"
   ]
  },
  {
   "cell_type": "code",
   "execution_count": 25,
   "metadata": {},
   "outputs": [
    {
     "data": {
      "image/png": "[encoded data removed]",
      "text/plain": [
       "<Figure size 432x288 with 1 Axes>"
      ]
     },
     "metadata": {
      "needs_background": "light"
     },
     "output_type": "display_data"
    }
   ],
   "source": [
    "ax=sl_wiki_mwsessiontick_top10.plot.bar(x='wiki',y='mwst_sessionlength')"
   ]
  },
  {
   "cell_type": "markdown",
   "metadata": {},
   "source": [
    "English wikipedia has the longest session length compared to all other wiki projects.   \n",
    "Time spent on enwiki is almost 50% greater than all other wikis combined.  "
   ]
  },
  {
   "cell_type": "code",
   "execution_count": 11,
   "metadata": {},
   "outputs": [],
   "source": [
    "sl_wiki_mwsessiontick1 = pd.DataFrame(sl_wiki_mwsessiontick,  columns = ['wiki', 'mwst_sessionlength']) "
   ]
  },
  {
   "cell_type": "code",
   "execution_count": 12,
   "metadata": {},
   "outputs": [],
   "source": [
    "sl_wiki_mwsessiontick1['percent'] = (sl_wiki_mwsessiontick1['mwst_sessionlength'] / \n",
    "                  sl_wiki_mwsessiontick1['mwst_sessionlength'].sum()) * 100\n",
    "  "
   ]
  },
  {
   "cell_type": "markdown",
   "metadata": {},
   "source": [
    "##### Session Length wiki proportion"
   ]
  },
  {
   "cell_type": "code",
   "execution_count": 13,
   "metadata": {},
   "outputs": [
    {
     "data": {
      "text/html": [
       "<div>\n",
       "<style scoped>\n",
       "    .dataframe tbody tr th:only-of-type {\n",
       "        vertical-align: middle;\n",
       "    }\n",
       "\n",
       "    .dataframe tbody tr th {\n",
       "        vertical-align: top;\n",
       "    }\n",
       "\n",
       "    .dataframe thead th {\n",
       "        text-align: right;\n",
       "    }\n",
       "</style>\n",
       "<table border=\"1\" class=\"dataframe\">\n",
       "  <thead>\n",
       "    <tr style=\"text-align: right;\">\n",
       "      <th></th>\n",
       "      <th>wiki</th>\n",
       "      <th>mwst_sessionlength</th>\n",
       "      <th>percent</th>\n",
       "    </tr>\n",
       "  </thead>\n",
       "  <tbody>\n",
       "    <tr>\n",
       "      <th>0</th>\n",
       "      <td>en.wikipedia</td>\n",
       "      <td>119883616</td>\n",
       "      <td>45.325309</td>\n",
       "    </tr>\n",
       "    <tr>\n",
       "      <th>1</th>\n",
       "      <td>es.wikipedia</td>\n",
       "      <td>22620652</td>\n",
       "      <td>8.552362</td>\n",
       "    </tr>\n",
       "    <tr>\n",
       "      <th>2</th>\n",
       "      <td>ja.wikipedia</td>\n",
       "      <td>16757604</td>\n",
       "      <td>6.335675</td>\n",
       "    </tr>\n",
       "    <tr>\n",
       "      <th>3</th>\n",
       "      <td>de.wikipedia</td>\n",
       "      <td>15869499</td>\n",
       "      <td>5.999902</td>\n",
       "    </tr>\n",
       "    <tr>\n",
       "      <th>4</th>\n",
       "      <td>ru.wikipedia</td>\n",
       "      <td>14066546</td>\n",
       "      <td>5.318246</td>\n",
       "    </tr>\n",
       "  </tbody>\n",
       "</table>\n",
       "</div>"
      ],
      "text/plain": [
       "           wiki  mwst_sessionlength    percent\n",
       "0  en.wikipedia           119883616  45.325309\n",
       "1  es.wikipedia            22620652   8.552362\n",
       "2  ja.wikipedia            16757604   6.335675\n",
       "3  de.wikipedia            15869499   5.999902\n",
       "4  ru.wikipedia            14066546   5.318246"
      ]
     },
     "execution_count": 13,
     "metadata": {},
     "output_type": "execute_result"
    }
   ],
   "source": [
    "sl_wiki_mwsessiontick1.head()"
   ]
  },
  {
   "cell_type": "markdown",
   "metadata": {},
   "source": [
    "#### 1.3 Session Length duration by Browser"
   ]
  },
  {
   "cell_type": "code",
   "execution_count": 14,
   "metadata": {},
   "outputs": [],
   "source": [
    "# Session Length by browser from raw table\n",
    "\n",
    "sl_browser_mwsessiontick = hive.run(\"\"\"\n",
    "SELECT\n",
    "  user_agent_map['browser_family'] AS browser,\n",
    "  COUNT(1) AS mwst_sessionlength\n",
    "  \n",
    "FROM event.mediawiki_client_session_tick\n",
    "WHERE\n",
    "  year = 2021 \n",
    "  AND ((month=2 AND day>=20) OR (month=3))\n",
    "  --Since Session tick was deployed to Group 2 wikis on Feb 23, 2021\n",
    "  \n",
    "  AND tick <>0 \n",
    "  --removing tick 0s since we are counting rows of all the ticks received\n",
    "  \n",
    "  AND is_wmf_domain\n",
    "  --adding filter for removing non-wmf events\n",
    "  \n",
    "GROUP BY   user_agent_map['browser_family']\n",
    "ORDER BY mwst_sessionlength DESC\n",
    "LIMIT 100\n",
    "\"\"\")"
   ]
  },
  {
   "cell_type": "code",
   "execution_count": 16,
   "metadata": {},
   "outputs": [],
   "source": [
    "sl_browser_mwsessiontick1 = pd.DataFrame(sl_browser_mwsessiontick,  \n",
    "                                         columns = ['browser', 'mwst_sessionlength']) "
   ]
  },
  {
   "cell_type": "code",
   "execution_count": 17,
   "metadata": {},
   "outputs": [],
   "source": [
    "sl_browser_mwsessiontick1['percent'] = (sl_browser_mwsessiontick1['mwst_sessionlength'] / \n",
    "                  sl_browser_mwsessiontick1['mwst_sessionlength'].sum()) * 100\n",
    "  "
   ]
  },
  {
   "cell_type": "code",
   "execution_count": 18,
   "metadata": {},
   "outputs": [],
   "source": [
    "sl_browser_mwsessiontick2=sl_browser_mwsessiontick1.head(10)"
   ]
  },
  {
   "cell_type": "markdown",
   "metadata": {},
   "source": [
    "Chrome and Chrome mobile browser has the longest session length amongst all other browsers, followed closely by Mobile Safari. "
   ]
  },
  {
   "cell_type": "code",
   "execution_count": 19,
   "metadata": {},
   "outputs": [
    {
     "data": {
      "image/png": "[encoded data removed]",
      "text/plain": [
       "<Figure size 432x288 with 1 Axes>"
      ]
     },
     "metadata": {
      "needs_background": "light"
     },
     "output_type": "display_data"
    }
   ],
   "source": [
    "ax=sl_browser_mwsessiontick2.plot.bar(x='browser',y='percent')"
   ]
  },
  {
   "cell_type": "markdown",
   "metadata": {},
   "source": [
    "##### Session Length Browser proportion"
   ]
  },
  {
   "cell_type": "code",
   "execution_count": 22,
   "metadata": {},
   "outputs": [
    {
     "data": {
      "text/html": [
       "<div>\n",
       "<style scoped>\n",
       "    .dataframe tbody tr th:only-of-type {\n",
       "        vertical-align: middle;\n",
       "    }\n",
       "\n",
       "    .dataframe tbody tr th {\n",
       "        vertical-align: top;\n",
       "    }\n",
       "\n",
       "    .dataframe thead th {\n",
       "        text-align: right;\n",
       "    }\n",
       "</style>\n",
       "<table border=\"1\" class=\"dataframe\">\n",
       "  <thead>\n",
       "    <tr style=\"text-align: right;\">\n",
       "      <th></th>\n",
       "      <th>browser</th>\n",
       "      <th>mwst_sessionlength</th>\n",
       "      <th>percent</th>\n",
       "    </tr>\n",
       "  </thead>\n",
       "  <tbody>\n",
       "    <tr>\n",
       "      <th>0</th>\n",
       "      <td>Chrome</td>\n",
       "      <td>92093558</td>\n",
       "      <td>34.682562</td>\n",
       "    </tr>\n",
       "    <tr>\n",
       "      <th>1</th>\n",
       "      <td>Chrome Mobile</td>\n",
       "      <td>59136005</td>\n",
       "      <td>22.270702</td>\n",
       "    </tr>\n",
       "    <tr>\n",
       "      <th>2</th>\n",
       "      <td>Mobile Safari</td>\n",
       "      <td>48905899</td>\n",
       "      <td>18.418030</td>\n",
       "    </tr>\n",
       "    <tr>\n",
       "      <th>3</th>\n",
       "      <td>Firefox</td>\n",
       "      <td>15353692</td>\n",
       "      <td>5.782222</td>\n",
       "    </tr>\n",
       "    <tr>\n",
       "      <th>4</th>\n",
       "      <td>Safari</td>\n",
       "      <td>13461415</td>\n",
       "      <td>5.069588</td>\n",
       "    </tr>\n",
       "    <tr>\n",
       "      <th>5</th>\n",
       "      <td>Edge</td>\n",
       "      <td>10643252</td>\n",
       "      <td>4.008263</td>\n",
       "    </tr>\n",
       "    <tr>\n",
       "      <th>6</th>\n",
       "      <td>Samsung Internet</td>\n",
       "      <td>6064756</td>\n",
       "      <td>2.283996</td>\n",
       "    </tr>\n",
       "    <tr>\n",
       "      <th>7</th>\n",
       "      <td>Chrome Mobile iOS</td>\n",
       "      <td>5319661</td>\n",
       "      <td>2.003392</td>\n",
       "    </tr>\n",
       "    <tr>\n",
       "      <th>8</th>\n",
       "      <td>Google</td>\n",
       "      <td>4368430</td>\n",
       "      <td>1.645157</td>\n",
       "    </tr>\n",
       "    <tr>\n",
       "      <th>9</th>\n",
       "      <td>Opera</td>\n",
       "      <td>2199854</td>\n",
       "      <td>0.828468</td>\n",
       "    </tr>\n",
       "  </tbody>\n",
       "</table>\n",
       "</div>"
      ],
      "text/plain": [
       "             browser  mwst_sessionlength    percent\n",
       "0             Chrome            92093558  34.682562\n",
       "1      Chrome Mobile            59136005  22.270702\n",
       "2      Mobile Safari            48905899  18.418030\n",
       "3            Firefox            15353692   5.782222\n",
       "4             Safari            13461415   5.069588\n",
       "5               Edge            10643252   4.008263\n",
       "6   Samsung Internet             6064756   2.283996\n",
       "7  Chrome Mobile iOS             5319661   2.003392\n",
       "8             Google             4368430   1.645157\n",
       "9              Opera             2199854   0.828468"
      ]
     },
     "execution_count": 22,
     "metadata": {},
     "output_type": "execute_result"
    }
   ],
   "source": [
    "sl_browser_mwsessiontick2"
   ]
  },
  {
   "cell_type": "markdown",
   "metadata": {},
   "source": [
    "### 2. Tick checks on raw table"
   ]
  },
  {
   "cell_type": "code",
   "execution_count": 20,
   "metadata": {},
   "outputs": [],
   "source": [
    "# Count Ticks from raw table\n",
    "\n",
    "mwsessiontick = hive.run(\"\"\"\n",
    "SELECT\n",
    "  tick,\n",
    "  COUNT(1) AS total_ticks\n",
    "  \n",
    "FROM event.mediawiki_client_session_tick\n",
    "WHERE\n",
    "  year = 2021 \n",
    "  AND ((month=2 AND day>=20) OR (month=3))\n",
    "  --Since Session tick was deployed to Group 2 wikis on Feb 23, 2021\n",
    "  \n",
    "  AND is_wmf_domain\n",
    "GROUP BY tick HAVING tick<20\n",
    "\"\"\")"
   ]
  },
  {
   "cell_type": "code",
   "execution_count": 27,
   "metadata": {},
   "outputs": [
    {
     "data": {
      "image/png": "[encoded data removed]",
      "text/plain": [
       "<Figure size 432x288 with 1 Axes>"
      ]
     },
     "metadata": {
      "needs_background": "light"
     },
     "output_type": "display_data"
    }
   ],
   "source": [
    "ax = mwsessiontick.plot(x='tick', y='total_ticks', kind='bar')\n",
    "ax.yaxis.set_major_formatter(mpl('{x:,.0f}'))\n",
    "plt.show()"
   ]
  },
  {
   "cell_type": "markdown",
   "metadata": {},
   "source": [
    "Count of Tick 0s is greater than all other ticks in the raw table which is ideal."
   ]
  },
  {
   "cell_type": "code",
   "execution_count": 28,
   "metadata": {},
   "outputs": [],
   "source": [
    "# Count null Ticks from raw table\n",
    "\n",
    "mwsessiontick_check = hive.run(\"\"\"\n",
    "SELECT\n",
    "  regexp_replace(meta.domain, '(www\\\\.|\\\\.org|^m\\\\.|\\\\.m)', '') AS wiki,\n",
    "  COUNT(1) AS total_null_ticks\n",
    "  \n",
    "FROM event.mediawiki_client_session_tick\n",
    "WHERE\n",
    "  year = 2021 \n",
    "  AND ((month=2 AND day>=20) OR (month=3))\n",
    "  --Since Session tick was deployed to Group 2 wikis on Feb 23, 2021\n",
    "  \n",
    "  AND is_wmf_domain\n",
    "\n",
    "--Checking for tick values that are null\n",
    "  AND tick IS NULL \n",
    "  \n",
    "GROUP BY regexp_replace(meta.domain, '(www\\\\.|\\\\.org|^m\\\\.|\\\\.m)', '') \n",
    "\"\"\")"
   ]
  },
  {
   "cell_type": "code",
   "execution_count": 29,
   "metadata": {},
   "outputs": [
    {
     "data": {
      "text/html": [
       "<div>\n",
       "<style scoped>\n",
       "    .dataframe tbody tr th:only-of-type {\n",
       "        vertical-align: middle;\n",
       "    }\n",
       "\n",
       "    .dataframe tbody tr th {\n",
       "        vertical-align: top;\n",
       "    }\n",
       "\n",
       "    .dataframe thead th {\n",
       "        text-align: right;\n",
       "    }\n",
       "</style>\n",
       "<table border=\"1\" class=\"dataframe\">\n",
       "  <thead>\n",
       "    <tr style=\"text-align: right;\">\n",
       "      <th></th>\n",
       "      <th>wiki</th>\n",
       "      <th>total_null_ticks</th>\n",
       "    </tr>\n",
       "  </thead>\n",
       "  <tbody>\n",
       "  </tbody>\n",
       "</table>\n",
       "</div>"
      ],
      "text/plain": [
       "Empty DataFrame\n",
       "Columns: [wiki, total_null_ticks]\n",
       "Index: []"
      ]
     },
     "execution_count": 29,
     "metadata": {},
     "output_type": "execute_result"
    }
   ],
   "source": [
    "mwsessiontick_check"
   ]
  },
  {
   "cell_type": "markdown",
   "metadata": {},
   "source": [
    "There aren't records where tick value is null"
   ]
  },
  {
   "cell_type": "code",
   "execution_count": 30,
   "metadata": {},
   "outputs": [
    {
     "data": {
      "text/html": [
       "<div>\n",
       "<style scoped>\n",
       "    .dataframe tbody tr th:only-of-type {\n",
       "        vertical-align: middle;\n",
       "    }\n",
       "\n",
       "    .dataframe tbody tr th {\n",
       "        vertical-align: top;\n",
       "    }\n",
       "\n",
       "    .dataframe thead th {\n",
       "        text-align: right;\n",
       "    }\n",
       "</style>\n",
       "<table border=\"1\" class=\"dataframe\">\n",
       "  <thead>\n",
       "    <tr style=\"text-align: right;\">\n",
       "      <th></th>\n",
       "      <th>year</th>\n",
       "      <th>max_mwst_sl</th>\n",
       "    </tr>\n",
       "  </thead>\n",
       "  <tbody>\n",
       "    <tr>\n",
       "      <th>0</th>\n",
       "      <td>2021</td>\n",
       "      <td>21461</td>\n",
       "    </tr>\n",
       "  </tbody>\n",
       "</table>\n",
       "</div>"
      ],
      "text/plain": [
       "   year  max_mwst_sl\n",
       "0  2021        21461"
      ]
     },
     "execution_count": 30,
     "metadata": {},
     "output_type": "execute_result"
    }
   ],
   "source": [
    "# Max value from raw table\n",
    "\n",
    "mwst_max = hive.run(\"\"\"\n",
    "SELECT year, max(tick) AS max_mwst_sl\n",
    "FROM event.mediawiki_client_session_tick\n",
    "WHERE year = 2021 \n",
    "  AND ((month=2 AND day>=20) OR (month=3))\n",
    "  --Since Session tick was deployed to Group 2 wikis on Feb 23, 2021\n",
    "  AND is_wmf_domain\n",
    "  --adding filter for removing non-wmf events\n",
    "GROUP BY year\n",
    "\"\"\")\n",
    "mwst_max"
   ]
  },
  {
   "cell_type": "code",
   "execution_count": 31,
   "metadata": {},
   "outputs": [],
   "source": [
    "# Stream from raw table\n",
    "\n",
    "sl_stream_mwsessiontick = hive.run(\"\"\"\n",
    "SELECT\n",
    "  date_format(meta.dt, \"yyyy-MM-dd\"),\n",
    "  COUNT(1) AS mwst_sessionlength\n",
    "  \n",
    "FROM event.mediawiki_client_session_tick\n",
    "WHERE\n",
    "  year = 2021 \n",
    "  AND ((month=2 AND day>=20) OR (month=3))\n",
    "  --Since Session tick was deployed to Group 2 wikis on Feb 23, 2021\n",
    "  \n",
    "  AND tick <>0 \n",
    "  --removing tick 0s since we are counting rows of all the ticks received\n",
    "  \n",
    "  AND is_wmf_domain\n",
    "  --adding filter for removing non-wmf events\n",
    "  \n",
    "  AND meta.stream <> \"mediawiki.client.session_tick\"\n",
    "  --Checking if data from streams other than session_tick have made it to the schema\n",
    "\n",
    "GROUP BY date_format(meta.dt, \"yyyy-MM-dd\")\n",
    "\"\"\")    "
   ]
  },
  {
   "cell_type": "code",
   "execution_count": 32,
   "metadata": {},
   "outputs": [
    {
     "data": {
      "text/html": [
       "<div>\n",
       "<style scoped>\n",
       "    .dataframe tbody tr th:only-of-type {\n",
       "        vertical-align: middle;\n",
       "    }\n",
       "\n",
       "    .dataframe tbody tr th {\n",
       "        vertical-align: top;\n",
       "    }\n",
       "\n",
       "    .dataframe thead th {\n",
       "        text-align: right;\n",
       "    }\n",
       "</style>\n",
       "<table border=\"1\" class=\"dataframe\">\n",
       "  <thead>\n",
       "    <tr style=\"text-align: right;\">\n",
       "      <th></th>\n",
       "      <th>_c0</th>\n",
       "      <th>mwst_sessionlength</th>\n",
       "    </tr>\n",
       "  </thead>\n",
       "  <tbody>\n",
       "  </tbody>\n",
       "</table>\n",
       "</div>"
      ],
      "text/plain": [
       "Empty DataFrame\n",
       "Columns: [_c0, mwst_sessionlength]\n",
       "Index: []"
      ]
     },
     "execution_count": 32,
     "metadata": {},
     "output_type": "execute_result"
    }
   ],
   "source": [
    "sl_stream_mwsessiontick"
   ]
  },
  {
   "cell_type": "markdown",
   "metadata": {},
   "source": [
    "Only mediawiki.client.session_tick stream data are in the schema"
   ]
  },
  {
   "cell_type": "code",
   "execution_count": null,
   "metadata": {},
   "outputs": [],
   "source": []
  }
 ],
 "metadata": {
  "kernelspec": {
   "display_name": "Python 3",
   "language": "python",
   "name": "python3"
  },
  "language_info": {
   "codemirror_mode": {
    "name": "ipython",
    "version": 3
   },
   "file_extension": ".py",
   "mimetype": "text/x-python",
   "name": "python",
   "nbconvert_exporter": "python",
   "pygments_lexer": "ipython3",
   "version": "3.7.3"
  }
 },
 "nbformat": 4,
 "nbformat_minor": 4
}

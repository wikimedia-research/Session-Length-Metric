{
 "cells": [
  {
   "cell_type": "markdown",
   "metadata": {},
   "source": [
    "# [T271455](https://phabricator.wikimedia.org/T271455) Data QA for Roll-up raw sessionTick data into distribution\n",
    "\n",
    "In this task we will be verifying if events in mforns.session_length (__intermediate table__) is sessionized correctly from the source schema (__raw table__) [event.mediawiki_client_session_tick](https://gerrit.wikimedia.org/r/plugins/gitiles/schemas/event/secondary/+/refs/heads/master/jsonschema/analytics/session_tick/2.0.0.yaml) and if the Instrumentation \n",
    "is working correctly.  \n",
    "\n",
    "Currently the instrumentation is deployed on [Group 0 and Group 1](https://wikitech.wikimedia.org/wiki/Deployments/Train) wikis only.\n",
    "\n",
    "**Observations from Session Length data-QA of intermediate table** \n",
    "1. Compared with data from mediawiki_client_session_tick for a few days (Jan 01-Jan 21, 2021)  \n",
    "- The total session length duration in the sessionized table is more than the raw table by 0.16%  \n",
    "- The raw table has 0.009% more number of sessions than the sessionized table    \n",
    "This could be because sessions are capped at the day level in the sessionized table. If there are sessions that extend beyond 00:00 UTC in the raw table they will be missing tick 0s (start of the session) in the intermediate table.\n",
    "Hence we’re adding 1 minute for each missing tick, that results from cutting a session at start/end of day.  \n",
    "To learn more about this, please refer to [Session Length - Interrupted Sessions](https://wikitech.wikimedia.org/wiki/Analytics/Data_Lake/Traffic/SessionLength#Interrupted_sessions)  \n",
    "2. Min and Max values of the session length between the two tables checks out  \n",
    "3. The ‘wiki’ field in the intermediate table consists of both desktop web and mobile web events of a wiki ie we will be able to tell them apart only in the raw table.    \n",
    "4. The intermediate table will have sessions only from the wmf domain. It will also filter out events from translate.google  \n",
    "\n",
    "5. We compared the differences between the number of sessions of a certain session length in the raw and intermediate table on multiple levels - per day, per wiki, and overall. Positive offset values indicated that the number of sessions in the intermediate table is greater than raw table and negative offset indicated vice versa. We then built a histogram of the values to illustrate the differences and then calculated percentiles of sessions to compare the values between the two tables.  \n",
    " a) On a per day or per wiki basis, the data shows that most session lengths have an equal number of sessions between the two tables i.e. difference of 0.   \n",
    " b) On a per day or per wiki basis, the session lengths that are different have a small variation in the number of sessions between the two tables.  \n",
    " c) However, when we compared All of the data in the two tables, we saw that very few session lengths had the same number of sessions in the two tables ie majority of the session length differences were non-zero, which was concerning. But then when we calculated the percentile values they were very close or almost the same between the two tables. _Thus the impact of the difference in number of sessions and session length durations in the two tables to percentile values of the session lengths is negligible._\n",
    "\n"
   ]
  },
  {
   "cell_type": "code",
   "execution_count": 1,
   "metadata": {},
   "outputs": [
    {
     "name": "stderr",
     "output_type": "stream",
     "text": [
      "You are using wmfdata v1.0.1, but v1.0.4 is available.\n",
      "\n",
      "To update, run `pip install --upgrade git+https://github.com/neilpquinn/wmfdata/wmfdata.git@release`.\n",
      "\n",
      "To see the changes, refer to https://github.com/neilpquinn/wmfdata/blob/release/CHANGELOG.md\n"
     ]
    }
   ],
   "source": [
    "import matplotlib.pyplot as plt\n",
    "from matplotlib.ticker import StrMethodFormatter as mpl\n",
    "import numpy as np\n",
    "import pandas as pd\n",
    "from tabulate import tabulate\n",
    "from wmfdata import charting, hive, mariadb\n",
    "from wmfdata.charting import comma_fmt, pct_fmt\n",
    "from wmfdata.utils import df_to_remarkup, pct_str"
   ]
  },
  {
   "cell_type": "markdown",
   "metadata": {},
   "source": [
    "## 1. Session Length duration \n",
    "Compare the sessions lengths between the raw table and intermediate table.   \n",
    "We will do this by calculating the Sum of session lengths from Intermediate table and Count of non-zero Ticks from event table (since one tick is sent every 1 minute) "
   ]
  },
  {
   "cell_type": "code",
   "execution_count": 2,
   "metadata": {},
   "outputs": [],
   "source": [
    "# Session Length per day from Intermediate table\n",
    "\n",
    "sl_day = hive.run(\"\"\"\n",
    "SELECT\n",
    "  date_format(CONCAT(year, '-', month, '-', day),\"yyyy-MM-dd\"),\n",
    "  sum(session_length) AS sl_session_length  \n",
    "\n",
    "FROM mforns.session_length\n",
    "WHERE\n",
    "  year = 2021 AND month=1\n",
    "GROUP BY CONCAT(year, '-', month, '-', day)\n",
    "\"\"\")"
   ]
  },
  {
   "cell_type": "code",
   "execution_count": 3,
   "metadata": {},
   "outputs": [],
   "source": [
    "sl_day['sl_session_length'] = sl_day.apply(lambda x: \"{:,}\".\n",
    "                                              format(x['sl_session_length']), axis=1)"
   ]
  },
  {
   "cell_type": "code",
   "execution_count": 4,
   "metadata": {},
   "outputs": [],
   "source": [
    "sl_day=sl_day.rename(columns={\"_c0\": \"date\"})\n",
    "sl_day.sort_values(by=['date'], inplace=True, ascending=True)\n",
    "few_sl_day= sl_day[sl_day[\"date\"].isin(['2021-01-02','2021-01-05',\n",
    "                                        '2021-01-10','2021-01-14'])]"
   ]
  },
  {
   "cell_type": "markdown",
   "metadata": {},
   "source": [
    "Compare with data from mediawiki_client_session_tick for a few days"
   ]
  },
  {
   "cell_type": "code",
   "execution_count": 6,
   "metadata": {},
   "outputs": [],
   "source": [
    "# Session Length per day from raw table\n",
    "\n",
    "sl_day_mwsessiontick = hive.run(\"\"\"\n",
    "SELECT\n",
    "  date_format(meta.dt, \"yyyy-MM-dd\"),\n",
    "  COUNT(1) AS mwst_sessionlength\n",
    "  \n",
    "FROM event.mediawiki_client_session_tick\n",
    "WHERE\n",
    "  year = 2021 \n",
    "  AND month=1 AND day<22 \n",
    "  --Since Sessionized table has data from Jan 1 to Jan 21, 2021\n",
    "  \n",
    "  AND tick <>0 \n",
    "  --removing tick 0s since we are counting rows of all the ticks received\n",
    "  \n",
    "GROUP BY date_format(meta.dt, \"yyyy-MM-dd\")\n",
    "\"\"\")"
   ]
  },
  {
   "cell_type": "code",
   "execution_count": 7,
   "metadata": {},
   "outputs": [],
   "source": [
    "sl_day_mwsessiontick['mwst_sessionlength'] = sl_day_mwsessiontick.apply(\n",
    "    lambda x: \"{:,}\".format(x['mwst_sessionlength']),axis=1)                         "
   ]
  },
  {
   "cell_type": "code",
   "execution_count": 8,
   "metadata": {},
   "outputs": [],
   "source": [
    "sl_day_mwsessiontick=sl_day_mwsessiontick.rename(columns={\"_c0\": \"date\"})\n",
    "sl_day_mwsessiontick.sort_values(by=['date'], inplace=True, ascending=True)\n",
    "few_mwst= sl_day_mwsessiontick[sl_day_mwsessiontick[\"date\"].isin(['2021-01-02','2021-01-05',\n",
    "                                        '2021-01-10','2021-01-14'])]"
   ]
  },
  {
   "cell_type": "code",
   "execution_count": 9,
   "metadata": {},
   "outputs": [
    {
     "data": {
      "text/html": [
       "<div>\n",
       "<style scoped>\n",
       "    .dataframe tbody tr th:only-of-type {\n",
       "        vertical-align: middle;\n",
       "    }\n",
       "\n",
       "    .dataframe tbody tr th {\n",
       "        vertical-align: top;\n",
       "    }\n",
       "\n",
       "    .dataframe thead th {\n",
       "        text-align: right;\n",
       "    }\n",
       "</style>\n",
       "<table border=\"1\" class=\"dataframe\">\n",
       "  <thead>\n",
       "    <tr style=\"text-align: right;\">\n",
       "      <th></th>\n",
       "      <th>date</th>\n",
       "      <th>mwst_sessionlength</th>\n",
       "    </tr>\n",
       "  </thead>\n",
       "  <tbody>\n",
       "    <tr>\n",
       "      <th>15</th>\n",
       "      <td>2021-01-02</td>\n",
       "      <td>19,600,126</td>\n",
       "    </tr>\n",
       "    <tr>\n",
       "      <th>18</th>\n",
       "      <td>2021-01-05</td>\n",
       "      <td>23,232,529</td>\n",
       "    </tr>\n",
       "    <tr>\n",
       "      <th>2</th>\n",
       "      <td>2021-01-10</td>\n",
       "      <td>23,313,637</td>\n",
       "    </tr>\n",
       "    <tr>\n",
       "      <th>6</th>\n",
       "      <td>2021-01-14</td>\n",
       "      <td>26,675,477</td>\n",
       "    </tr>\n",
       "  </tbody>\n",
       "</table>\n",
       "</div>"
      ],
      "text/plain": [
       "          date mwst_sessionlength\n",
       "15  2021-01-02         19,600,126\n",
       "18  2021-01-05         23,232,529\n",
       "2   2021-01-10         23,313,637\n",
       "6   2021-01-14         26,675,477"
      ]
     },
     "execution_count": 9,
     "metadata": {},
     "output_type": "execute_result"
    }
   ],
   "source": [
    "few_mwst"
   ]
  },
  {
   "cell_type": "code",
   "execution_count": 10,
   "metadata": {},
   "outputs": [
    {
     "data": {
      "text/html": [
       "<div>\n",
       "<style scoped>\n",
       "    .dataframe tbody tr th:only-of-type {\n",
       "        vertical-align: middle;\n",
       "    }\n",
       "\n",
       "    .dataframe tbody tr th {\n",
       "        vertical-align: top;\n",
       "    }\n",
       "\n",
       "    .dataframe thead th {\n",
       "        text-align: right;\n",
       "    }\n",
       "</style>\n",
       "<table border=\"1\" class=\"dataframe\">\n",
       "  <thead>\n",
       "    <tr style=\"text-align: right;\">\n",
       "      <th></th>\n",
       "      <th>date</th>\n",
       "      <th>sl_session_length</th>\n",
       "    </tr>\n",
       "  </thead>\n",
       "  <tbody>\n",
       "    <tr>\n",
       "      <th>11</th>\n",
       "      <td>2021-01-02</td>\n",
       "      <td>19,615,357</td>\n",
       "    </tr>\n",
       "    <tr>\n",
       "      <th>16</th>\n",
       "      <td>2021-01-05</td>\n",
       "      <td>23,257,536</td>\n",
       "    </tr>\n",
       "    <tr>\n",
       "      <th>1</th>\n",
       "      <td>2021-01-10</td>\n",
       "      <td>23,345,691</td>\n",
       "    </tr>\n",
       "    <tr>\n",
       "      <th>5</th>\n",
       "      <td>2021-01-14</td>\n",
       "      <td>26,720,873</td>\n",
       "    </tr>\n",
       "  </tbody>\n",
       "</table>\n",
       "</div>"
      ],
      "text/plain": [
       "          date sl_session_length\n",
       "11  2021-01-02        19,615,357\n",
       "16  2021-01-05        23,257,536\n",
       "1   2021-01-10        23,345,691\n",
       "5   2021-01-14        26,720,873"
      ]
     },
     "execution_count": 10,
     "metadata": {},
     "output_type": "execute_result"
    }
   ],
   "source": [
    "few_sl_day"
   ]
  },
  {
   "cell_type": "markdown",
   "metadata": {},
   "source": [
    "As you can see, the session lengths per day between the two tables is vastly different (by ~20,000 to 50,000 minutes). \n",
    "The Intermediate table has longer session lengths than the raw table. Let's investigate further by looking at the Total session lengths in both tables."
   ]
  },
  {
   "cell_type": "code",
   "execution_count": 11,
   "metadata": {},
   "outputs": [
    {
     "data": {
      "text/html": [
       "<div>\n",
       "<style scoped>\n",
       "    .dataframe tbody tr th:only-of-type {\n",
       "        vertical-align: middle;\n",
       "    }\n",
       "\n",
       "    .dataframe tbody tr th {\n",
       "        vertical-align: top;\n",
       "    }\n",
       "\n",
       "    .dataframe thead th {\n",
       "        text-align: right;\n",
       "    }\n",
       "</style>\n",
       "<table border=\"1\" class=\"dataframe\">\n",
       "  <thead>\n",
       "    <tr style=\"text-align: right;\">\n",
       "      <th></th>\n",
       "      <th>year</th>\n",
       "      <th>mwst_total_sl</th>\n",
       "    </tr>\n",
       "  </thead>\n",
       "  <tbody>\n",
       "    <tr>\n",
       "      <th>0</th>\n",
       "      <td>2021</td>\n",
       "      <td>507567148</td>\n",
       "    </tr>\n",
       "  </tbody>\n",
       "</table>\n",
       "</div>"
      ],
      "text/plain": [
       "   year  mwst_total_sl\n",
       "0  2021      507567148"
      ]
     },
     "execution_count": 11,
     "metadata": {},
     "output_type": "execute_result"
    }
   ],
   "source": [
    "# Total Session Length from event table\n",
    "\n",
    "total_mwst = hive.run(\"\"\"\n",
    "SELECT\n",
    "  substr(meta.dt, 0, 4) AS year,\n",
    "  COUNT(1) AS mwst_total_sl\n",
    "  \n",
    "FROM event.mediawiki_client_session_tick\n",
    "WHERE\n",
    "  year = 2021 \n",
    "  AND month=1 AND day < 22\n",
    "  AND tick <>0\n",
    "GROUP BY substr(meta.dt, 0, 4)\n",
    "\"\"\")\n",
    "total_mwst"
   ]
  },
  {
   "cell_type": "code",
   "execution_count": 12,
   "metadata": {},
   "outputs": [
    {
     "data": {
      "text/html": [
       "<div>\n",
       "<style scoped>\n",
       "    .dataframe tbody tr th:only-of-type {\n",
       "        vertical-align: middle;\n",
       "    }\n",
       "\n",
       "    .dataframe tbody tr th {\n",
       "        vertical-align: top;\n",
       "    }\n",
       "\n",
       "    .dataframe thead th {\n",
       "        text-align: right;\n",
       "    }\n",
       "</style>\n",
       "<table border=\"1\" class=\"dataframe\">\n",
       "  <thead>\n",
       "    <tr style=\"text-align: right;\">\n",
       "      <th></th>\n",
       "      <th>year</th>\n",
       "      <th>total_sl</th>\n",
       "    </tr>\n",
       "  </thead>\n",
       "  <tbody>\n",
       "    <tr>\n",
       "      <th>0</th>\n",
       "      <td>2021</td>\n",
       "      <td>508394477</td>\n",
       "    </tr>\n",
       "  </tbody>\n",
       "</table>\n",
       "</div>"
      ],
      "text/plain": [
       "   year   total_sl\n",
       "0  2021  508394477"
      ]
     },
     "execution_count": 12,
     "metadata": {},
     "output_type": "execute_result"
    }
   ],
   "source": [
    "# Session Length from Aggregated table\n",
    "\n",
    "total_sl = hive.run(\"\"\"\n",
    "SELECT\n",
    "  year,\n",
    "  sum(session_length) AS total_sl\n",
    "FROM mforns.session_length\n",
    "WHERE\n",
    "  year = 2021 \n",
    "  AND month=1 \n",
    "GROUP BY year\n",
    "\"\"\")\n",
    "total_sl"
   ]
  },
  {
   "cell_type": "code",
   "execution_count": 14,
   "metadata": {},
   "outputs": [],
   "source": [
    "total_diff=((total_sl['total_sl']-total_mwst['mwst_total_sl'])/total_sl['total_sl'])*100"
   ]
  },
  {
   "cell_type": "markdown",
   "metadata": {},
   "source": [
    "Percentage difference of the session lengths in both the tables"
   ]
  },
  {
   "cell_type": "code",
   "execution_count": 15,
   "metadata": {},
   "outputs": [
    {
     "data": {
      "text/plain": [
       "0    0.162734\n",
       "dtype: float64"
      ]
     },
     "execution_count": 15,
     "metadata": {},
     "output_type": "execute_result"
    }
   ],
   "source": [
    "total_diff"
   ]
  },
  {
   "cell_type": "markdown",
   "metadata": {},
   "source": [
    "When comparing the data, sessionized table has **0.16%** more session length overall than the raw table. \n",
    "This is because sessions are capped at the day level in the sessionized table. If there are sessions that extend beyond 00:00 UTC in the raw table they will be missing tick 0s (start of the session) and hence we’re adding 1 minute for each missing tick, that results from cutting a session at start/end of day.  \n",
    "To learn more about this, please refer to [Session Length - Interrupted Sessions](https://wikitech.wikimedia.org/wiki/Analytics/Data_Lake/Traffic/SessionLength#Interrupted_sessions)"
   ]
  },
  {
   "cell_type": "markdown",
   "metadata": {},
   "source": [
    "## 2. Number of sessions \n",
    "Tick 0 is sent at the start of a session. We will be able to get the total number of sessions by counting the number of tick 0s received in the raw table. \n",
    "We will use this count of tick 0s to check if it is equal to the number of sessions (rows of data) recorded in the sessionized table "
   ]
  },
  {
   "cell_type": "code",
   "execution_count": 16,
   "metadata": {},
   "outputs": [],
   "source": [
    "# Count Session Length records from Aggregated table\n",
    "\n",
    "sl_count = hive.run(\"\"\"\n",
    "SELECT\n",
    "  year,\n",
    "  count(1) AS sl_count\n",
    "  \n",
    "FROM mforns.session_length\n",
    "WHERE\n",
    "  year = 2021 \n",
    "  AND month=1 \n",
    "GROUP BY year\n",
    "\"\"\")"
   ]
  },
  {
   "cell_type": "code",
   "execution_count": 17,
   "metadata": {},
   "outputs": [],
   "source": [
    "# Count of Tick 0s from raw table\n",
    "\n",
    "mwst_tick0 = hive.run(\"\"\"\n",
    "SELECT\n",
    "  tick,\n",
    "  COUNT(1) AS total_ticks\n",
    "  \n",
    "FROM event.mediawiki_client_session_tick\n",
    "WHERE\n",
    "  year = 2021 \n",
    "  AND month=1 AND day < 22\n",
    "GROUP BY tick HAVING tick=0\n",
    "\"\"\")"
   ]
  },
  {
   "cell_type": "code",
   "execution_count": 18,
   "metadata": {},
   "outputs": [
    {
     "data": {
      "text/html": [
       "<div>\n",
       "<style scoped>\n",
       "    .dataframe tbody tr th:only-of-type {\n",
       "        vertical-align: middle;\n",
       "    }\n",
       "\n",
       "    .dataframe tbody tr th {\n",
       "        vertical-align: top;\n",
       "    }\n",
       "\n",
       "    .dataframe thead th {\n",
       "        text-align: right;\n",
       "    }\n",
       "</style>\n",
       "<table border=\"1\" class=\"dataframe\">\n",
       "  <thead>\n",
       "    <tr style=\"text-align: right;\">\n",
       "      <th></th>\n",
       "      <th>year</th>\n",
       "      <th>sl_count</th>\n",
       "    </tr>\n",
       "  </thead>\n",
       "  <tbody>\n",
       "    <tr>\n",
       "      <th>0</th>\n",
       "      <td>2021</td>\n",
       "      <td>49849212</td>\n",
       "    </tr>\n",
       "  </tbody>\n",
       "</table>\n",
       "</div>"
      ],
      "text/plain": [
       "   year  sl_count\n",
       "0  2021  49849212"
      ]
     },
     "execution_count": 18,
     "metadata": {},
     "output_type": "execute_result"
    }
   ],
   "source": [
    "sl_count.head()"
   ]
  },
  {
   "cell_type": "code",
   "execution_count": 19,
   "metadata": {},
   "outputs": [
    {
     "data": {
      "text/html": [
       "<div>\n",
       "<style scoped>\n",
       "    .dataframe tbody tr th:only-of-type {\n",
       "        vertical-align: middle;\n",
       "    }\n",
       "\n",
       "    .dataframe tbody tr th {\n",
       "        vertical-align: top;\n",
       "    }\n",
       "\n",
       "    .dataframe thead th {\n",
       "        text-align: right;\n",
       "    }\n",
       "</style>\n",
       "<table border=\"1\" class=\"dataframe\">\n",
       "  <thead>\n",
       "    <tr style=\"text-align: right;\">\n",
       "      <th></th>\n",
       "      <th>tick</th>\n",
       "      <th>total_ticks</th>\n",
       "    </tr>\n",
       "  </thead>\n",
       "  <tbody>\n",
       "    <tr>\n",
       "      <th>0</th>\n",
       "      <td>0</td>\n",
       "      <td>49853667</td>\n",
       "    </tr>\n",
       "  </tbody>\n",
       "</table>\n",
       "</div>"
      ],
      "text/plain": [
       "   tick  total_ticks\n",
       "0     0     49853667"
      ]
     },
     "execution_count": 19,
     "metadata": {},
     "output_type": "execute_result"
    }
   ],
   "source": [
    "mwst_tick0"
   ]
  },
  {
   "cell_type": "markdown",
   "metadata": {},
   "source": [
    "**We observe that the sessionized table has lesser number of sessions than the raw table.**  \n",
    "This could also be due to the point mentioned above where sessions are capped at the day level in the sessionized table. When longer sessions are cut at UTC 00:00 the algorithm for the intermediate table will get sessions that start at tick n (greater than 0).   \n",
    "**Please note that the sessionizing query will have sessions only from wmf domain as well as filter out events from translate.google**"
   ]
  },
  {
   "cell_type": "markdown",
   "metadata": {},
   "source": [
    "## 3. Minimum and Maximum Session Length value\n",
    "Minimum value on both tables should be 0.  \n",
    "Maximum values should be the same on both tables"
   ]
  },
  {
   "cell_type": "code",
   "execution_count": 20,
   "metadata": {},
   "outputs": [
    {
     "data": {
      "text/html": [
       "<div>\n",
       "<style scoped>\n",
       "    .dataframe tbody tr th:only-of-type {\n",
       "        vertical-align: middle;\n",
       "    }\n",
       "\n",
       "    .dataframe tbody tr th {\n",
       "        vertical-align: top;\n",
       "    }\n",
       "\n",
       "    .dataframe thead th {\n",
       "        text-align: right;\n",
       "    }\n",
       "</style>\n",
       "<table border=\"1\" class=\"dataframe\">\n",
       "  <thead>\n",
       "    <tr style=\"text-align: right;\">\n",
       "      <th></th>\n",
       "      <th>year</th>\n",
       "      <th>min_mwst_sl</th>\n",
       "    </tr>\n",
       "  </thead>\n",
       "  <tbody>\n",
       "    <tr>\n",
       "      <th>0</th>\n",
       "      <td>2021</td>\n",
       "      <td>0</td>\n",
       "    </tr>\n",
       "  </tbody>\n",
       "</table>\n",
       "</div>"
      ],
      "text/plain": [
       "   year  min_mwst_sl\n",
       "0  2021            0"
      ]
     },
     "execution_count": 20,
     "metadata": {},
     "output_type": "execute_result"
    }
   ],
   "source": [
    "# Minimum from raw table\n",
    "\n",
    "mwst_min = hive.run(\"\"\"\n",
    "SELECT year, min(tick) AS min_mwst_sl\n",
    "FROM event.mediawiki_client_session_tick\n",
    "WHERE year = 2021\n",
    "  AND month=1 \n",
    "  AND day<22\n",
    "GROUP BY year\n",
    "\"\"\")\n",
    "mwst_min"
   ]
  },
  {
   "cell_type": "code",
   "execution_count": 21,
   "metadata": {},
   "outputs": [
    {
     "data": {
      "text/html": [
       "<div>\n",
       "<style scoped>\n",
       "    .dataframe tbody tr th:only-of-type {\n",
       "        vertical-align: middle;\n",
       "    }\n",
       "\n",
       "    .dataframe tbody tr th {\n",
       "        vertical-align: top;\n",
       "    }\n",
       "\n",
       "    .dataframe thead th {\n",
       "        text-align: right;\n",
       "    }\n",
       "</style>\n",
       "<table border=\"1\" class=\"dataframe\">\n",
       "  <thead>\n",
       "    <tr style=\"text-align: right;\">\n",
       "      <th></th>\n",
       "      <th>year</th>\n",
       "      <th>min_sl</th>\n",
       "    </tr>\n",
       "  </thead>\n",
       "  <tbody>\n",
       "    <tr>\n",
       "      <th>0</th>\n",
       "      <td>2021</td>\n",
       "      <td>0</td>\n",
       "    </tr>\n",
       "  </tbody>\n",
       "</table>\n",
       "</div>"
      ],
      "text/plain": [
       "   year  min_sl\n",
       "0  2021       0"
      ]
     },
     "execution_count": 21,
     "metadata": {},
     "output_type": "execute_result"
    }
   ],
   "source": [
    "# Minimum from sessionized table\n",
    "sl_min = hive.run(\"\"\"\n",
    "SELECT year, min(session_length) AS min_sl\n",
    "FROM mforns.session_length\n",
    "WHERE year = 2021\n",
    "GROUP BY year\n",
    "\"\"\")\n",
    "sl_min"
   ]
  },
  {
   "cell_type": "code",
   "execution_count": 22,
   "metadata": {},
   "outputs": [
    {
     "data": {
      "text/html": [
       "<div>\n",
       "<style scoped>\n",
       "    .dataframe tbody tr th:only-of-type {\n",
       "        vertical-align: middle;\n",
       "    }\n",
       "\n",
       "    .dataframe tbody tr th {\n",
       "        vertical-align: top;\n",
       "    }\n",
       "\n",
       "    .dataframe thead th {\n",
       "        text-align: right;\n",
       "    }\n",
       "</style>\n",
       "<table border=\"1\" class=\"dataframe\">\n",
       "  <thead>\n",
       "    <tr style=\"text-align: right;\">\n",
       "      <th></th>\n",
       "      <th>year</th>\n",
       "      <th>max_mwst_sl</th>\n",
       "    </tr>\n",
       "  </thead>\n",
       "  <tbody>\n",
       "    <tr>\n",
       "      <th>0</th>\n",
       "      <td>2021</td>\n",
       "      <td>32551</td>\n",
       "    </tr>\n",
       "  </tbody>\n",
       "</table>\n",
       "</div>"
      ],
      "text/plain": [
       "   year  max_mwst_sl\n",
       "0  2021        32551"
      ]
     },
     "execution_count": 22,
     "metadata": {},
     "output_type": "execute_result"
    }
   ],
   "source": [
    "# Max value from raw table\n",
    "\n",
    "mwst_max = hive.run(\"\"\"\n",
    "SELECT year, max(tick) AS max_mwst_sl\n",
    "FROM event.mediawiki_client_session_tick\n",
    "WHERE year = 2021\n",
    "AND month=1 AND day<22\n",
    "GROUP BY year\n",
    "\"\"\")\n",
    "mwst_max"
   ]
  },
  {
   "cell_type": "code",
   "execution_count": 23,
   "metadata": {},
   "outputs": [
    {
     "data": {
      "text/html": [
       "<div>\n",
       "<style scoped>\n",
       "    .dataframe tbody tr th:only-of-type {\n",
       "        vertical-align: middle;\n",
       "    }\n",
       "\n",
       "    .dataframe tbody tr th {\n",
       "        vertical-align: top;\n",
       "    }\n",
       "\n",
       "    .dataframe thead th {\n",
       "        text-align: right;\n",
       "    }\n",
       "</style>\n",
       "<table border=\"1\" class=\"dataframe\">\n",
       "  <thead>\n",
       "    <tr style=\"text-align: right;\">\n",
       "      <th></th>\n",
       "      <th>year</th>\n",
       "      <th>max_sl</th>\n",
       "    </tr>\n",
       "  </thead>\n",
       "  <tbody>\n",
       "    <tr>\n",
       "      <th>0</th>\n",
       "      <td>2021</td>\n",
       "      <td>32551</td>\n",
       "    </tr>\n",
       "  </tbody>\n",
       "</table>\n",
       "</div>"
      ],
      "text/plain": [
       "   year  max_sl\n",
       "0  2021   32551"
      ]
     },
     "execution_count": 23,
     "metadata": {},
     "output_type": "execute_result"
    }
   ],
   "source": [
    "# Max value from sessionized table\n",
    "sl_max = hive.run(\"\"\"\n",
    "SELECT year, max(session_length) AS max_sl\n",
    "FROM mforns.session_length\n",
    "WHERE year = 2021\n",
    "GROUP BY year\n",
    "\"\"\")\n",
    "sl_max"
   ]
  },
  {
   "cell_type": "markdown",
   "metadata": {},
   "source": [
    "Min and Max values between the tables checks out"
   ]
  },
  {
   "cell_type": "markdown",
   "metadata": {},
   "source": [
    "### 4. Tick checks on raw table"
   ]
  },
  {
   "cell_type": "code",
   "execution_count": 24,
   "metadata": {},
   "outputs": [],
   "source": [
    "# Count Ticks from raw table\n",
    "\n",
    "mwst_tick = hive.run(\"\"\"\n",
    "SELECT\n",
    "  SUM(CAST(tick=0 AS int)) AS tick_0,\n",
    "  SUM(CAST(tick=1 AS int)) AS tick_1,\n",
    "  SUM(CAST(tick=2 AS int)) AS tick_2,\n",
    "  SUM(CAST(tick=3 AS int)) AS tick_3,\n",
    "  SUM(CAST(tick=4 AS int)) AS tick_4,\n",
    "  SUM(CAST(tick=5 AS int)) AS tick_5,\n",
    "  SUM(CAST(tick>5 AND tick<=10 AS int)) AS tick_5to10,\n",
    "  SUM(CAST(tick>10 AND tick<=20 AS int)) AS tick_10to20,\n",
    "  SUM(CAST(tick>20 AND tick<=50 AS int)) AS tick_20to50,\n",
    "  SUM(CAST(tick>50 AS int)) AS tick_greater50\n",
    "FROM event.mediawiki_client_session_tick\n",
    "WHERE\n",
    "  year = 2021 \n",
    "  AND month=1 AND day < 22\n",
    "\"\"\")"
   ]
  },
  {
   "cell_type": "code",
   "execution_count": 25,
   "metadata": {},
   "outputs": [
    {
     "data": {
      "text/html": [
       "<div>\n",
       "<style scoped>\n",
       "    .dataframe tbody tr th:only-of-type {\n",
       "        vertical-align: middle;\n",
       "    }\n",
       "\n",
       "    .dataframe tbody tr th {\n",
       "        vertical-align: top;\n",
       "    }\n",
       "\n",
       "    .dataframe thead th {\n",
       "        text-align: right;\n",
       "    }\n",
       "</style>\n",
       "<table border=\"1\" class=\"dataframe\">\n",
       "  <thead>\n",
       "    <tr style=\"text-align: right;\">\n",
       "      <th></th>\n",
       "      <th>tick_0</th>\n",
       "      <th>tick_1</th>\n",
       "      <th>tick_2</th>\n",
       "      <th>tick_3</th>\n",
       "      <th>tick_4</th>\n",
       "      <th>tick_5</th>\n",
       "      <th>tick_5to10</th>\n",
       "      <th>tick_10to20</th>\n",
       "      <th>tick_20to50</th>\n",
       "      <th>tick_greater50</th>\n",
       "    </tr>\n",
       "  </thead>\n",
       "  <tbody>\n",
       "    <tr>\n",
       "      <th>0</th>\n",
       "      <td>49853667</td>\n",
       "      <td>37162163</td>\n",
       "      <td>31258463</td>\n",
       "      <td>27531273</td>\n",
       "      <td>24806978</td>\n",
       "      <td>22656413</td>\n",
       "      <td>90844554</td>\n",
       "      <td>114037848</td>\n",
       "      <td>112434544</td>\n",
       "      <td>46834912</td>\n",
       "    </tr>\n",
       "  </tbody>\n",
       "</table>\n",
       "</div>"
      ],
      "text/plain": [
       "     tick_0    tick_1    tick_2    tick_3    tick_4    tick_5  tick_5to10  \\\n",
       "0  49853667  37162163  31258463  27531273  24806978  22656413    90844554   \n",
       "\n",
       "   tick_10to20  tick_20to50  tick_greater50  \n",
       "0    114037848    112434544        46834912  "
      ]
     },
     "execution_count": 25,
     "metadata": {},
     "output_type": "execute_result"
    }
   ],
   "source": [
    "mwst_tick"
   ]
  },
  {
   "cell_type": "code",
   "execution_count": 26,
   "metadata": {},
   "outputs": [],
   "source": [
    "# Count Ticks from raw table\n",
    "\n",
    "mwsessiontick = hive.run(\"\"\"\n",
    "SELECT\n",
    "  tick,\n",
    "  COUNT(1) AS total_ticks\n",
    "  \n",
    "FROM event.mediawiki_client_session_tick\n",
    "WHERE\n",
    "  year = 2021 \n",
    "  AND month=1 AND day < 22\n",
    "GROUP BY tick HAVING tick<20\n",
    "\"\"\")"
   ]
  },
  {
   "cell_type": "code",
   "execution_count": 27,
   "metadata": {},
   "outputs": [
    {
     "data": {
      "text/html": [
       "<div>\n",
       "<style scoped>\n",
       "    .dataframe tbody tr th:only-of-type {\n",
       "        vertical-align: middle;\n",
       "    }\n",
       "\n",
       "    .dataframe tbody tr th {\n",
       "        vertical-align: top;\n",
       "    }\n",
       "\n",
       "    .dataframe thead th {\n",
       "        text-align: right;\n",
       "    }\n",
       "</style>\n",
       "<table border=\"1\" class=\"dataframe\">\n",
       "  <thead>\n",
       "    <tr style=\"text-align: right;\">\n",
       "      <th></th>\n",
       "      <th>tick</th>\n",
       "      <th>total_ticks</th>\n",
       "    </tr>\n",
       "  </thead>\n",
       "  <tbody>\n",
       "    <tr>\n",
       "      <th>0</th>\n",
       "      <td>0</td>\n",
       "      <td>49853667</td>\n",
       "    </tr>\n",
       "    <tr>\n",
       "      <th>1</th>\n",
       "      <td>1</td>\n",
       "      <td>37162163</td>\n",
       "    </tr>\n",
       "    <tr>\n",
       "      <th>2</th>\n",
       "      <td>2</td>\n",
       "      <td>31258463</td>\n",
       "    </tr>\n",
       "    <tr>\n",
       "      <th>3</th>\n",
       "      <td>3</td>\n",
       "      <td>27531273</td>\n",
       "    </tr>\n",
       "    <tr>\n",
       "      <th>4</th>\n",
       "      <td>4</td>\n",
       "      <td>24806978</td>\n",
       "    </tr>\n",
       "    <tr>\n",
       "      <th>5</th>\n",
       "      <td>5</td>\n",
       "      <td>22656413</td>\n",
       "    </tr>\n",
       "    <tr>\n",
       "      <th>6</th>\n",
       "      <td>6</td>\n",
       "      <td>20878321</td>\n",
       "    </tr>\n",
       "    <tr>\n",
       "      <th>7</th>\n",
       "      <td>7</td>\n",
       "      <td>19357104</td>\n",
       "    </tr>\n",
       "    <tr>\n",
       "      <th>8</th>\n",
       "      <td>8</td>\n",
       "      <td>18021756</td>\n",
       "    </tr>\n",
       "    <tr>\n",
       "      <th>9</th>\n",
       "      <td>9</td>\n",
       "      <td>16831803</td>\n",
       "    </tr>\n",
       "    <tr>\n",
       "      <th>10</th>\n",
       "      <td>10</td>\n",
       "      <td>15755570</td>\n",
       "    </tr>\n",
       "    <tr>\n",
       "      <th>11</th>\n",
       "      <td>11</td>\n",
       "      <td>14777570</td>\n",
       "    </tr>\n",
       "    <tr>\n",
       "      <th>12</th>\n",
       "      <td>12</td>\n",
       "      <td>13878911</td>\n",
       "    </tr>\n",
       "    <tr>\n",
       "      <th>13</th>\n",
       "      <td>13</td>\n",
       "      <td>13050916</td>\n",
       "    </tr>\n",
       "    <tr>\n",
       "      <th>14</th>\n",
       "      <td>14</td>\n",
       "      <td>12283478</td>\n",
       "    </tr>\n",
       "    <tr>\n",
       "      <th>15</th>\n",
       "      <td>15</td>\n",
       "      <td>11566565</td>\n",
       "    </tr>\n",
       "    <tr>\n",
       "      <th>16</th>\n",
       "      <td>16</td>\n",
       "      <td>10896371</td>\n",
       "    </tr>\n",
       "    <tr>\n",
       "      <th>17</th>\n",
       "      <td>17</td>\n",
       "      <td>10263427</td>\n",
       "    </tr>\n",
       "    <tr>\n",
       "      <th>18</th>\n",
       "      <td>18</td>\n",
       "      <td>9664683</td>\n",
       "    </tr>\n",
       "    <tr>\n",
       "      <th>19</th>\n",
       "      <td>19</td>\n",
       "      <td>9098502</td>\n",
       "    </tr>\n",
       "  </tbody>\n",
       "</table>\n",
       "</div>"
      ],
      "text/plain": [
       "    tick  total_ticks\n",
       "0      0     49853667\n",
       "1      1     37162163\n",
       "2      2     31258463\n",
       "3      3     27531273\n",
       "4      4     24806978\n",
       "5      5     22656413\n",
       "6      6     20878321\n",
       "7      7     19357104\n",
       "8      8     18021756\n",
       "9      9     16831803\n",
       "10    10     15755570\n",
       "11    11     14777570\n",
       "12    12     13878911\n",
       "13    13     13050916\n",
       "14    14     12283478\n",
       "15    15     11566565\n",
       "16    16     10896371\n",
       "17    17     10263427\n",
       "18    18      9664683\n",
       "19    19      9098502"
      ]
     },
     "execution_count": 27,
     "metadata": {},
     "output_type": "execute_result"
    }
   ],
   "source": [
    "mwsessiontick"
   ]
  },
  {
   "cell_type": "markdown",
   "metadata": {},
   "source": [
    "#### Plot of the number of Ticks in raw table (mediawiki_client_session_tick) "
   ]
  },
  {
   "cell_type": "code",
   "execution_count": 28,
   "metadata": {},
   "outputs": [
    {
     "data": {
      "image/png": "[encoded data removed]",
      "text/plain": [
       "<Figure size 432x288 with 1 Axes>"
      ]
     },
     "metadata": {
      "needs_background": "light"
     },
     "output_type": "display_data"
    }
   ],
   "source": [
    "ax = mwsessiontick.plot(x='tick', y='total_ticks', kind='bar')\n",
    "ax.yaxis.set_major_formatter(mpl('{x:,.0f}'))\n",
    "plt.show()"
   ]
  },
  {
   "cell_type": "markdown",
   "metadata": {},
   "source": [
    "Count of Tick 0s is greater than all other ticks in the raw table which is ideal."
   ]
  },
  {
   "cell_type": "markdown",
   "metadata": {},
   "source": [
    "## 5. Percentile Compare \n",
    "The session length metric allows us to calculate percentiles (% of sessions lasting up to some length, % of sessions lasting at least some length). It is important to check if the percentiles calculated from the raw table are similar to the percentiles calculated from the data in the intermediate table.\n",
    "For this we will first calculate the differences in session lengths observed in the raw table and sessionized table. We will then build a histogram of the values to illustrate the differences and then calculate percentiles of sessions to compare the values between the two tables. \n",
    "\n"
   ]
  },
  {
   "cell_type": "markdown",
   "metadata": {},
   "source": [
    "#### 5.1 Compare session length for Jan 20, 2021"
   ]
  },
  {
   "cell_type": "code",
   "execution_count": 29,
   "metadata": {},
   "outputs": [],
   "source": [
    "#For 2021, Month=1, day=20\n",
    "\n",
    "histogram_query_0120 = \"\"\"\n",
    "with tick_histogram as (\n",
    "    select\n",
    "        tick,\n",
    "        count(1) as freq\n",
    "    from event.mediawiki_client_session_tick\n",
    "    where\n",
    "        year=2021 and\n",
    "        month=1 and\n",
    "        day=20\n",
    "    group by tick\n",
    "    order by tick asc\n",
    "    limit 1000\n",
    "),\n",
    "session_histogram_from_raw as (\n",
    "    select\n",
    "        one.tick as session_length,\n",
    "        one.freq - coalesce(two.freq, 0) as freq\n",
    "    from tick_histogram as one\n",
    "    left join tick_histogram as two\n",
    "    on one.tick + 1 = two.tick\n",
    "),\n",
    "session_histogram_from_intermediate as (\n",
    "    select\n",
    "        session_length,\n",
    "        count(1) as freq\n",
    "    from mforns.session_length\n",
    "    where\n",
    "        year=2021 and\n",
    "        month=1 and\n",
    "        day=20\n",
    "    group by session_length\n",
    "    order by session_length asc\n",
    "    limit 1000\n",
    ")\n",
    "select\n",
    "    coalesce(raw.session_length, itm.session_length) as session_length,\n",
    "    coalesce(raw.freq, 0) as raw_freq,\n",
    "    coalesce(itm.freq, 0) as itm_freq,\n",
    "    coalesce(itm.freq, 0) - coalesce(raw.freq, 0) as offset\n",
    "from session_histogram_from_raw as raw\n",
    "full outer join session_histogram_from_intermediate as itm\n",
    "    on raw.session_length = itm.session_length\n",
    ";\n",
    "\"\"\"\n"
   ]
  },
  {
   "cell_type": "code",
   "execution_count": 30,
   "metadata": {},
   "outputs": [],
   "source": [
    "compare_hist_0120=hive.run(histogram_query_0120)"
   ]
  },
  {
   "cell_type": "markdown",
   "metadata": {},
   "source": [
    "The table below provides difference between number of sessions of a certain length in the raw and intermediate table.  \n",
    "Positive offset values indicate that number of sessions in the intermediate table is greater than raw table and negative offset indicates vice versa. \n"
   ]
  },
  {
   "cell_type": "code",
   "execution_count": 31,
   "metadata": {},
   "outputs": [
    {
     "data": {
      "text/html": [
       "<div>\n",
       "<style scoped>\n",
       "    .dataframe tbody tr th:only-of-type {\n",
       "        vertical-align: middle;\n",
       "    }\n",
       "\n",
       "    .dataframe tbody tr th {\n",
       "        vertical-align: top;\n",
       "    }\n",
       "\n",
       "    .dataframe thead th {\n",
       "        text-align: right;\n",
       "    }\n",
       "</style>\n",
       "<table border=\"1\" class=\"dataframe\">\n",
       "  <thead>\n",
       "    <tr style=\"text-align: right;\">\n",
       "      <th></th>\n",
       "      <th>session_length</th>\n",
       "      <th>raw_freq</th>\n",
       "      <th>itm_freq</th>\n",
       "      <th>offset</th>\n",
       "    </tr>\n",
       "  </thead>\n",
       "  <tbody>\n",
       "    <tr>\n",
       "      <th>0</th>\n",
       "      <td>0</td>\n",
       "      <td>692616</td>\n",
       "      <td>692540</td>\n",
       "      <td>-76</td>\n",
       "    </tr>\n",
       "    <tr>\n",
       "      <th>1</th>\n",
       "      <td>1</td>\n",
       "      <td>321888</td>\n",
       "      <td>321857</td>\n",
       "      <td>-31</td>\n",
       "    </tr>\n",
       "    <tr>\n",
       "      <th>2</th>\n",
       "      <td>2</td>\n",
       "      <td>205389</td>\n",
       "      <td>205399</td>\n",
       "      <td>10</td>\n",
       "    </tr>\n",
       "    <tr>\n",
       "      <th>3</th>\n",
       "      <td>3</td>\n",
       "      <td>150268</td>\n",
       "      <td>150259</td>\n",
       "      <td>-9</td>\n",
       "    </tr>\n",
       "    <tr>\n",
       "      <th>4</th>\n",
       "      <td>4</td>\n",
       "      <td>119199</td>\n",
       "      <td>119193</td>\n",
       "      <td>-6</td>\n",
       "    </tr>\n",
       "  </tbody>\n",
       "</table>\n",
       "</div>"
      ],
      "text/plain": [
       "   session_length  raw_freq  itm_freq  offset\n",
       "0               0    692616    692540     -76\n",
       "1               1    321888    321857     -31\n",
       "2               2    205389    205399      10\n",
       "3               3    150268    150259      -9\n",
       "4               4    119199    119193      -6"
      ]
     },
     "execution_count": 31,
     "metadata": {},
     "output_type": "execute_result"
    }
   ],
   "source": [
    "compare_hist_0120.head()"
   ]
  },
  {
   "cell_type": "code",
   "execution_count": 32,
   "metadata": {},
   "outputs": [
    {
     "data": {
      "text/plain": [
       "Text(0, 0.5, 'number_of_sessions')"
      ]
     },
     "execution_count": 32,
     "metadata": {},
     "output_type": "execute_result"
    },
    {
     "data": {
      "image/png": "[encoded data removed]",
      "text/plain": [
       "<Figure size 432x288 with 1 Axes>"
      ]
     },
     "metadata": {
      "needs_background": "light"
     },
     "output_type": "display_data"
    }
   ],
   "source": [
    "#plot the distribution\n",
    "histogram_0120=plt.hist(compare_hist_0120['offset'], 100)\n",
    "plt.xlabel('offset')\n",
    "plt.ylabel('number_of_sessions')\n",
    "                  "
   ]
  },
  {
   "cell_type": "code",
   "execution_count": 33,
   "metadata": {},
   "outputs": [],
   "source": [
    "compare_hist0120_nonzero = compare_hist_0120[compare_hist_0120['offset'] > 100]"
   ]
  },
  {
   "cell_type": "markdown",
   "metadata": {},
   "source": [
    "The graph shows that most session lengths have equal number of sessions between the two tables. The few session lengths that are different have a small variation in the number of sessions.     \n",
    "\n",
    "\n",
    "To calculate percentiles we will run a python script on the hive query for data from Jan 20, 2021, that will give us the proportion of sessions lasting at least some length from raw and intermediate tables. "
   ]
  },
  {
   "cell_type": "code",
   "execution_count": 34,
   "metadata": {},
   "outputs": [],
   "source": [
    "#Python Script for calculating and comparing percentile\n",
    "\n",
    "import re\n",
    "import sys\n",
    "data = []\n",
    "for line in sys.stdin:\n",
    "    row = [int(v) for v in re.split(r'\\t+', line)]\n",
    "    data.append(row)\n",
    "total_sessions_raw = sum([row[1] for row in data])\n",
    "total_sessions_itm = sum([row[2] for row in data])\n",
    "cumulative_sessions_raw = 0\n",
    "cumulative_sessions_itm = 0\n",
    "for row in data:\n",
    "    cumulative_sessions_raw += row[1]\n",
    "    cumulative_sessions_itm += row[2]\n",
    "    decorated_row = row + [\n",
    "        cumulative_sessions_raw / total_sessions_raw,\n",
    "        cumulative_sessions_itm / total_sessions_itm\n",
    "    ]\n",
    "    print(*decorated_row)"
   ]
  },
  {
   "cell_type": "code",
   "execution_count": null,
   "metadata": {},
   "outputs": [],
   "source": [
    "hive -f session_length_compare_percentile_0120.hql 2> /dev/null > session_length_compare_percentile_output_0120.tsv"
   ]
  },
  {
   "cell_type": "code",
   "execution_count": null,
   "metadata": {},
   "outputs": [],
   "source": [
    "tail -n +2 session_length_compare_percentile_output_0120.tsv | python3 session_length_decorate_histograms.py | tee session_length_compare_percentile_output_0120.log"
   ]
  },
  {
   "cell_type": "code",
   "execution_count": 43,
   "metadata": {},
   "outputs": [],
   "source": [
    "data = {'Session Length':[0,1,2,3,4,'..',10], \n",
    "        'raw_freq':[692616,321888,205389,150268,119199,'..',54124],\n",
    "        'itm_freq':[692540,321857,205399,150259,119193,'..',54116],\n",
    "        'offset':[-76,-31,10,-9,-6,'..',-8],\n",
    "        'raw_freq_percentile':[0.25127594148300897,0.36805451756569085,0.4425681215616334,0.4970842360821885,\n",
    "                               0.5403287481189205,'..',0.6980952664276106],\n",
    "        'item_freq_percentile':[0.25126423053005165,0.3680389315519577,0.4425608677385203,0.49707715851625883,\n",
    "                                0.5403222236815467,'..',0.6980870916783917]\n",
    "       } \n",
    "  \n",
    "# Create DataFrame \n",
    "session_length_compare_percentile_output_0120 = pd.DataFrame(data) "
   ]
  },
  {
   "cell_type": "code",
   "execution_count": 44,
   "metadata": {},
   "outputs": [
    {
     "data": {
      "text/html": [
       "<div>\n",
       "<style scoped>\n",
       "    .dataframe tbody tr th:only-of-type {\n",
       "        vertical-align: middle;\n",
       "    }\n",
       "\n",
       "    .dataframe tbody tr th {\n",
       "        vertical-align: top;\n",
       "    }\n",
       "\n",
       "    .dataframe thead th {\n",
       "        text-align: right;\n",
       "    }\n",
       "</style>\n",
       "<table border=\"1\" class=\"dataframe\">\n",
       "  <thead>\n",
       "    <tr style=\"text-align: right;\">\n",
       "      <th></th>\n",
       "      <th>Session Length</th>\n",
       "      <th>raw_freq</th>\n",
       "      <th>itm_freq</th>\n",
       "      <th>offset</th>\n",
       "      <th>raw_freq_percentile</th>\n",
       "      <th>item_freq_percentile</th>\n",
       "    </tr>\n",
       "  </thead>\n",
       "  <tbody>\n",
       "    <tr>\n",
       "      <th>0</th>\n",
       "      <td>0</td>\n",
       "      <td>692616</td>\n",
       "      <td>692540</td>\n",
       "      <td>-76</td>\n",
       "      <td>0.251276</td>\n",
       "      <td>0.251264</td>\n",
       "    </tr>\n",
       "    <tr>\n",
       "      <th>1</th>\n",
       "      <td>1</td>\n",
       "      <td>321888</td>\n",
       "      <td>321857</td>\n",
       "      <td>-31</td>\n",
       "      <td>0.368055</td>\n",
       "      <td>0.368039</td>\n",
       "    </tr>\n",
       "    <tr>\n",
       "      <th>2</th>\n",
       "      <td>2</td>\n",
       "      <td>205389</td>\n",
       "      <td>205399</td>\n",
       "      <td>10</td>\n",
       "      <td>0.442568</td>\n",
       "      <td>0.442561</td>\n",
       "    </tr>\n",
       "    <tr>\n",
       "      <th>3</th>\n",
       "      <td>3</td>\n",
       "      <td>150268</td>\n",
       "      <td>150259</td>\n",
       "      <td>-9</td>\n",
       "      <td>0.497084</td>\n",
       "      <td>0.497077</td>\n",
       "    </tr>\n",
       "    <tr>\n",
       "      <th>4</th>\n",
       "      <td>4</td>\n",
       "      <td>119199</td>\n",
       "      <td>119193</td>\n",
       "      <td>-6</td>\n",
       "      <td>0.540329</td>\n",
       "      <td>0.540322</td>\n",
       "    </tr>\n",
       "    <tr>\n",
       "      <th>5</th>\n",
       "      <td>..</td>\n",
       "      <td>..</td>\n",
       "      <td>..</td>\n",
       "      <td>..</td>\n",
       "      <td>..</td>\n",
       "      <td>..</td>\n",
       "    </tr>\n",
       "    <tr>\n",
       "      <th>6</th>\n",
       "      <td>10</td>\n",
       "      <td>54124</td>\n",
       "      <td>54116</td>\n",
       "      <td>-8</td>\n",
       "      <td>0.698095</td>\n",
       "      <td>0.698087</td>\n",
       "    </tr>\n",
       "  </tbody>\n",
       "</table>\n",
       "</div>"
      ],
      "text/plain": [
       "  Session Length raw_freq itm_freq offset raw_freq_percentile  \\\n",
       "0              0   692616   692540    -76            0.251276   \n",
       "1              1   321888   321857    -31            0.368055   \n",
       "2              2   205389   205399     10            0.442568   \n",
       "3              3   150268   150259     -9            0.497084   \n",
       "4              4   119199   119193     -6            0.540329   \n",
       "5             ..       ..       ..     ..                  ..   \n",
       "6             10    54124    54116     -8            0.698095   \n",
       "\n",
       "  item_freq_percentile  \n",
       "0             0.251264  \n",
       "1             0.368039  \n",
       "2             0.442561  \n",
       "3             0.497077  \n",
       "4             0.540322  \n",
       "5                   ..  \n",
       "6             0.698087  "
      ]
     },
     "execution_count": 44,
     "metadata": {},
     "output_type": "execute_result"
    }
   ],
   "source": [
    "session_length_compare_percentile_output_0120 "
   ]
  },
  {
   "cell_type": "markdown",
   "metadata": {},
   "source": [
    "_Complete Output of the py script is provided in_ [session_length_compare_percentile_output_0120.log](https://github.com/wikimedia-research/Session-Length-Metric/blob/main/Data-QA/session_length_compare_percentile_output_0120.log)\n",
    "\n"
   ]
  },
  {
   "cell_type": "markdown",
   "metadata": {},
   "source": [
    "#### 5.2 Compare session length for a wiki (example:Catalan wikipedia)"
   ]
  },
  {
   "cell_type": "code",
   "execution_count": 46,
   "metadata": {},
   "outputs": [],
   "source": [
    "# Count frequency of Ticks from raw table \n",
    "# Count frequency of session lengths from intermediate table\n",
    "# calculate a histogram of ticks and then do a self-join to do the subtraction \n",
    "\n",
    "#For wiki= cawiki\n",
    "cawiki_histogram_queries = \"\"\"\n",
    "with tick_histogram as (\n",
    "    select\n",
    "        tick,\n",
    "        count(1) as freq\n",
    "    from event.mediawiki_client_session_tick\n",
    "    where\n",
    "        year=2021 and\n",
    "        month=1 and\n",
    "        day<22 and\n",
    "        meta.domain IN ('ca.wikipedia.org', 'ca.m.wikipedia.org')\n",
    "    group by tick\n",
    "    order by tick asc\n",
    "    limit 1000\n",
    "),\n",
    "session_histogram_from_raw as (\n",
    "    select\n",
    "        one.tick as session_length,\n",
    "        one.freq - coalesce(two.freq, 0) as freq\n",
    "    from tick_histogram as one\n",
    "    left join tick_histogram as two\n",
    "    on one.tick + 1 = two.tick\n",
    "),\n",
    "session_histogram_from_intermediate as (\n",
    "    select\n",
    "        session_length,\n",
    "        count(1) as freq\n",
    "    from mforns.session_length\n",
    "    where\n",
    "        year=2021 and\n",
    "        wiki='ca.wikipedia'\n",
    "\n",
    "    group by session_length\n",
    "    order by session_length asc\n",
    "    limit 1000\n",
    ")\n",
    "select\n",
    "    coalesce(raw.session_length, itm.session_length) as session_length,\n",
    "    coalesce(raw.freq, 0) as raw_freq,\n",
    "    coalesce(itm.freq, 0) as itm_freq,\n",
    "    coalesce(itm.freq, 0) - coalesce(raw.freq, 0) as offset\n",
    "from session_histogram_from_raw as raw\n",
    "full outer join session_histogram_from_intermediate as itm\n",
    "    on raw.session_length = itm.session_length\n",
    ";\n",
    "\"\"\"\n"
   ]
  },
  {
   "cell_type": "code",
   "execution_count": 47,
   "metadata": {},
   "outputs": [],
   "source": [
    "cawiki_compare_histogram=hive.run(cawiki_histogram_queries)"
   ]
  },
  {
   "cell_type": "code",
   "execution_count": 48,
   "metadata": {},
   "outputs": [
    {
     "data": {
      "text/plain": [
       "Text(0, 0.5, 'number_of_sessions')"
      ]
     },
     "execution_count": 48,
     "metadata": {},
     "output_type": "execute_result"
    },
    {
     "data": {
      "image/png": "[encoded data removed]",
      "text/plain": [
       "<Figure size 432x288 with 1 Axes>"
      ]
     },
     "metadata": {
      "needs_background": "light"
     },
     "output_type": "display_data"
    }
   ],
   "source": [
    "#plot the distribution of differences for cawiki\n",
    "cawiki_histogram=plt.hist(cawiki_compare_histogram['offset'], 10)\n",
    "plt.xlabel('offset')\n",
    "plt.ylabel('number_of_sessions')\n",
    "                  "
   ]
  },
  {
   "cell_type": "markdown",
   "metadata": {},
   "source": [
    "Cawiki is closer to the UTC time zone and will not be greatly affected by the end of day capping of the sessionized table. Hence there isn't a huge difference in the sessions between the two tables.\n",
    "Let's look at another wiki that is farther from UTC. "
   ]
  },
  {
   "cell_type": "markdown",
   "metadata": {},
   "source": [
    "#### 5.3 Compare session length for a wiki (example: English wiktionary)"
   ]
  },
  {
   "cell_type": "code",
   "execution_count": 49,
   "metadata": {},
   "outputs": [],
   "source": [
    "# Count frequency of Ticks from raw table \n",
    "# Count frequency of session lengths from intermediate table\n",
    "# calculate a histogram of ticks and then do a self-join to do the subtraction \n",
    "\n",
    "#For wiki= en.wiktionary\n",
    "enwikt_histogram_queries = \"\"\"\n",
    "with tick_histogram as (\n",
    "    select\n",
    "        tick,\n",
    "        count(1) as freq\n",
    "    from event.mediawiki_client_session_tick\n",
    "    where\n",
    "        year=2021 and\n",
    "        month=1 and\n",
    "        day<22 and\n",
    "        meta.domain IN ('en.wiktionary.org', 'en.m.wiktionary.org')\n",
    "    group by tick\n",
    "    order by tick asc\n",
    "    limit 1000\n",
    "),\n",
    "session_histogram_from_raw as (\n",
    "    select\n",
    "        one.tick as session_length,\n",
    "        one.freq - coalesce(two.freq, 0) as freq\n",
    "    from tick_histogram as one\n",
    "    left join tick_histogram as two\n",
    "    on one.tick + 1 = two.tick\n",
    "),\n",
    "session_histogram_from_intermediate as (\n",
    "    select\n",
    "        session_length,\n",
    "        count(1) as freq\n",
    "    from mforns.session_length\n",
    "    where\n",
    "        year=2021 and\n",
    "        wiki='en.wiktionary'\n",
    "\n",
    "    group by session_length\n",
    "    order by session_length asc\n",
    "    limit 1000\n",
    ")\n",
    "select\n",
    "    coalesce(raw.session_length, itm.session_length) as session_length,\n",
    "    coalesce(raw.freq, 0) as raw_freq,\n",
    "    coalesce(itm.freq, 0) as itm_freq,\n",
    "    coalesce(itm.freq, 0) - coalesce(raw.freq, 0) as offset\n",
    "from session_histogram_from_raw as raw\n",
    "full outer join session_histogram_from_intermediate as itm\n",
    "    on raw.session_length = itm.session_length\n",
    ";\n",
    "\"\"\"\n"
   ]
  },
  {
   "cell_type": "code",
   "execution_count": 50,
   "metadata": {},
   "outputs": [],
   "source": [
    "enwikt_compare_histogram=hive.run(enwikt_histogram_queries)"
   ]
  },
  {
   "cell_type": "code",
   "execution_count": 51,
   "metadata": {},
   "outputs": [
    {
     "data": {
      "text/plain": [
       "Text(0, 0.5, 'number_of_sessions')"
      ]
     },
     "execution_count": 51,
     "metadata": {},
     "output_type": "execute_result"
    },
    {
     "data": {
      "image/png": "[encoded data removed]",
      "text/plain": [
       "<Figure size 432x288 with 1 Axes>"
      ]
     },
     "metadata": {
      "needs_background": "light"
     },
     "output_type": "display_data"
    }
   ],
   "source": [
    "#plot the distribution of differences for cawiki\n",
    "enwikt_compare_hist=plt.hist(enwikt_compare_histogram['offset'], 100)\n",
    "plt.xlabel('offset')\n",
    "plt.ylabel('number_of_sessions')"
   ]
  },
  {
   "cell_type": "code",
   "execution_count": 52,
   "metadata": {},
   "outputs": [
    {
     "data": {
      "text/plain": [
       "(485, 4)"
      ]
     },
     "execution_count": 52,
     "metadata": {},
     "output_type": "execute_result"
    }
   ],
   "source": [
    "enwikt_not_0 = enwikt_compare_histogram[enwikt_compare_histogram['offset'] != 0]\n",
    "enwikt_not_0.shape"
   ]
  },
  {
   "cell_type": "markdown",
   "metadata": {},
   "source": [
    "There are more number of sessions that are different between the two tables however their differences are below +/- 100 sessions. "
   ]
  },
  {
   "cell_type": "markdown",
   "metadata": {},
   "source": [
    "Let's calculate percentiles on all the data we have in the sessionized table and corresponding data from raw table (without date or wiki filters)"
   ]
  },
  {
   "cell_type": "code",
   "execution_count": 53,
   "metadata": {},
   "outputs": [],
   "source": [
    "# Count frequency of Ticks from raw table \n",
    "# Count frequency of session lengths from intermediate table\n",
    "# calculate a histogram of ticks and then do a self-join to do the subtraction \n",
    "\n",
    "#For all days and all wikis\n",
    "histogram_queries = \"\"\"\n",
    "with tick_histogram as (\n",
    "    select\n",
    "        tick,\n",
    "        count(1) as freq\n",
    "    from event.mediawiki_client_session_tick\n",
    "    where\n",
    "        year=2021 and\n",
    "        month=1 and\n",
    "        day<22 \n",
    "    group by tick\n",
    "    order by tick asc\n",
    "    limit 1000\n",
    "),\n",
    "session_histogram_from_raw as (\n",
    "    select\n",
    "        one.tick as session_length,\n",
    "        one.freq - coalesce(two.freq, 0) as freq\n",
    "    from tick_histogram as one\n",
    "    left join tick_histogram as two\n",
    "    on one.tick + 1 = two.tick\n",
    "),\n",
    "session_histogram_from_intermediate as (\n",
    "    select\n",
    "        session_length,\n",
    "        count(1) as freq\n",
    "    from mforns.session_length\n",
    "    where\n",
    "        year=2021 \n",
    "\n",
    "    group by session_length\n",
    "    order by session_length asc\n",
    "    limit 1000\n",
    ")\n",
    "select\n",
    "    coalesce(raw.session_length, itm.session_length) as session_length,\n",
    "    coalesce(raw.freq, 0) as raw_freq,\n",
    "    coalesce(itm.freq, 0) as itm_freq,\n",
    "    coalesce(itm.freq, 0) - coalesce(raw.freq, 0) as offset\n",
    "from session_histogram_from_raw as raw\n",
    "full outer join session_histogram_from_intermediate as itm\n",
    "    on raw.session_length = itm.session_length\n",
    ";\n",
    "\"\"\"\n"
   ]
  },
  {
   "cell_type": "code",
   "execution_count": 54,
   "metadata": {},
   "outputs": [],
   "source": [
    "hist_compare=hive.run(histogram_queries)"
   ]
  },
  {
   "cell_type": "code",
   "execution_count": 59,
   "metadata": {},
   "outputs": [
    {
     "data": {
      "text/plain": [
       "Text(0, 0.5, 'number_of_sessions')"
      ]
     },
     "execution_count": 59,
     "metadata": {},
     "output_type": "execute_result"
    },
    {
     "data": {
      "image/png": "[encoded data removed]",
      "text/plain": [
       "<Figure size 432x288 with 1 Axes>"
      ]
     },
     "metadata": {
      "needs_background": "light"
     },
     "output_type": "display_data"
    }
   ],
   "source": [
    "#plot the distribution of differences \n",
    "hist_compare_all=plt.hist(hist_compare['offset'], 1000)\n",
    "plt.xlabel('offset')\n",
    "plt.ylabel('number_of_sessions')\n",
    "                  "
   ]
  },
  {
   "cell_type": "code",
   "execution_count": 56,
   "metadata": {},
   "outputs": [
    {
     "data": {
      "text/plain": [
       "(869, 4)"
      ]
     },
     "execution_count": 56,
     "metadata": {},
     "output_type": "execute_result"
    }
   ],
   "source": [
    "diff_not_0 = hist_compare[hist_compare['offset'] != 0]\n",
    "diff_not_0.shape"
   ]
  },
  {
   "cell_type": "markdown",
   "metadata": {},
   "source": [
    "When we compare All of the data in the two tables, we see that very few session lengths that have the same number of sessions in the two tables ie majority of the session lengths are non-zero, which is concerning.      \n",
    "Hence we will calculate the percentiles of the session lengths and compare the values. "
   ]
  },
  {
   "cell_type": "code",
   "execution_count": null,
   "metadata": {},
   "outputs": [],
   "source": [
    "hive -f session_length_compare_percentile.hql 2> /dev/null > session_length_compare_percentile_output.tsv"
   ]
  },
  {
   "cell_type": "code",
   "execution_count": null,
   "metadata": {},
   "outputs": [],
   "source": [
    "tail -n +2 session_length_compare_percentile_output.tsv | python3 session_length_decorate_histograms.py | tee session_length_compare_percentile_output.log"
   ]
  },
  {
   "cell_type": "code",
   "execution_count": 61,
   "metadata": {},
   "outputs": [],
   "source": [
    "all_data = {'Session Length':[0,1,2,3,4,'..',10,50,100,250], \n",
    "        'raw_freq':[12691504,5903700,3727190,2724295,2150565,'..',978000,69389,7860,211],\n",
    "        'itm_freq':[12689612,5904006,3726732,2724070,2150199,'..',977925,69419,7824,208],\n",
    "        'offset':[-1892,306,-458,-225,-366,'..',-75,30,-36,-3],\n",
    "        'raw_freq_percentile':[0.254575134,0.372995711,0.4477583,0.50240414611,0.5455416950,\n",
    "                               '..',0.683963669,0.9693591245,0.99464426558,0.9997503493],\n",
    "        'item_freq_percentile':[0.2545599316,0.372997230,0.44775732864,0.502403528,0.54553759,\n",
    "                                '..',0.6839592770,0.96935415950,0.994635842,0.99974571]\n",
    "       } \n",
    "  \n",
    "# Create DataFrame \n",
    "session_length_compare_percentile_output = pd.DataFrame(all_data) "
   ]
  },
  {
   "cell_type": "code",
   "execution_count": 62,
   "metadata": {},
   "outputs": [
    {
     "data": {
      "text/html": [
       "<div>\n",
       "<style scoped>\n",
       "    .dataframe tbody tr th:only-of-type {\n",
       "        vertical-align: middle;\n",
       "    }\n",
       "\n",
       "    .dataframe tbody tr th {\n",
       "        vertical-align: top;\n",
       "    }\n",
       "\n",
       "    .dataframe thead th {\n",
       "        text-align: right;\n",
       "    }\n",
       "</style>\n",
       "<table border=\"1\" class=\"dataframe\">\n",
       "  <thead>\n",
       "    <tr style=\"text-align: right;\">\n",
       "      <th></th>\n",
       "      <th>Session Length</th>\n",
       "      <th>raw_freq</th>\n",
       "      <th>itm_freq</th>\n",
       "      <th>offset</th>\n",
       "      <th>raw_freq_percentile</th>\n",
       "      <th>item_freq_percentile</th>\n",
       "    </tr>\n",
       "  </thead>\n",
       "  <tbody>\n",
       "    <tr>\n",
       "      <th>0</th>\n",
       "      <td>0</td>\n",
       "      <td>12691504</td>\n",
       "      <td>12689612</td>\n",
       "      <td>-1892</td>\n",
       "      <td>0.254575</td>\n",
       "      <td>0.25456</td>\n",
       "    </tr>\n",
       "    <tr>\n",
       "      <th>1</th>\n",
       "      <td>1</td>\n",
       "      <td>5903700</td>\n",
       "      <td>5904006</td>\n",
       "      <td>306</td>\n",
       "      <td>0.372996</td>\n",
       "      <td>0.372997</td>\n",
       "    </tr>\n",
       "    <tr>\n",
       "      <th>2</th>\n",
       "      <td>2</td>\n",
       "      <td>3727190</td>\n",
       "      <td>3726732</td>\n",
       "      <td>-458</td>\n",
       "      <td>0.447758</td>\n",
       "      <td>0.447757</td>\n",
       "    </tr>\n",
       "    <tr>\n",
       "      <th>3</th>\n",
       "      <td>3</td>\n",
       "      <td>2724295</td>\n",
       "      <td>2724070</td>\n",
       "      <td>-225</td>\n",
       "      <td>0.502404</td>\n",
       "      <td>0.502404</td>\n",
       "    </tr>\n",
       "    <tr>\n",
       "      <th>4</th>\n",
       "      <td>4</td>\n",
       "      <td>2150565</td>\n",
       "      <td>2150199</td>\n",
       "      <td>-366</td>\n",
       "      <td>0.545542</td>\n",
       "      <td>0.545538</td>\n",
       "    </tr>\n",
       "    <tr>\n",
       "      <th>5</th>\n",
       "      <td>..</td>\n",
       "      <td>..</td>\n",
       "      <td>..</td>\n",
       "      <td>..</td>\n",
       "      <td>..</td>\n",
       "      <td>..</td>\n",
       "    </tr>\n",
       "    <tr>\n",
       "      <th>6</th>\n",
       "      <td>10</td>\n",
       "      <td>978000</td>\n",
       "      <td>977925</td>\n",
       "      <td>-75</td>\n",
       "      <td>0.683964</td>\n",
       "      <td>0.683959</td>\n",
       "    </tr>\n",
       "    <tr>\n",
       "      <th>7</th>\n",
       "      <td>50</td>\n",
       "      <td>69389</td>\n",
       "      <td>69419</td>\n",
       "      <td>30</td>\n",
       "      <td>0.969359</td>\n",
       "      <td>0.969354</td>\n",
       "    </tr>\n",
       "    <tr>\n",
       "      <th>8</th>\n",
       "      <td>100</td>\n",
       "      <td>7860</td>\n",
       "      <td>7824</td>\n",
       "      <td>-36</td>\n",
       "      <td>0.994644</td>\n",
       "      <td>0.994636</td>\n",
       "    </tr>\n",
       "    <tr>\n",
       "      <th>9</th>\n",
       "      <td>250</td>\n",
       "      <td>211</td>\n",
       "      <td>208</td>\n",
       "      <td>-3</td>\n",
       "      <td>0.99975</td>\n",
       "      <td>0.999746</td>\n",
       "    </tr>\n",
       "  </tbody>\n",
       "</table>\n",
       "</div>"
      ],
      "text/plain": [
       "  Session Length  raw_freq  itm_freq offset raw_freq_percentile  \\\n",
       "0              0  12691504  12689612  -1892            0.254575   \n",
       "1              1   5903700   5904006    306            0.372996   \n",
       "2              2   3727190   3726732   -458            0.447758   \n",
       "3              3   2724295   2724070   -225            0.502404   \n",
       "4              4   2150565   2150199   -366            0.545542   \n",
       "5             ..        ..        ..     ..                  ..   \n",
       "6             10    978000    977925    -75            0.683964   \n",
       "7             50     69389     69419     30            0.969359   \n",
       "8            100      7860      7824    -36            0.994644   \n",
       "9            250       211       208     -3             0.99975   \n",
       "\n",
       "  item_freq_percentile  \n",
       "0              0.25456  \n",
       "1             0.372997  \n",
       "2             0.447757  \n",
       "3             0.502404  \n",
       "4             0.545538  \n",
       "5                   ..  \n",
       "6             0.683959  \n",
       "7             0.969354  \n",
       "8             0.994636  \n",
       "9             0.999746  "
      ]
     },
     "execution_count": 62,
     "metadata": {},
     "output_type": "execute_result"
    }
   ],
   "source": [
    "session_length_compare_percentile_output"
   ]
  },
  {
   "cell_type": "markdown",
   "metadata": {},
   "source": [
    "_Complete Output of the py script is provided in_ [session_length_compare_percentile_output.log](https://github.com/wikimedia-research/Session-Length-Metric/blob/main/Data-QA/session_length_compare_percentile_output.log)\n",
    "\n",
    "\n",
    "The Percentile values are almost the same between the two tables.   \n",
    "**Conclusion** : Eventhough the overall duration of all sessions and count of sessions between the raw and intermediate table is slightly different we have verified that it has no impact to the session length metric (percentiles). \n"
   ]
  },
  {
   "cell_type": "code",
   "execution_count": null,
   "metadata": {},
   "outputs": [],
   "source": []
  },
  {
   "cell_type": "code",
   "execution_count": null,
   "metadata": {},
   "outputs": [],
   "source": []
  },
  {
   "cell_type": "code",
   "execution_count": null,
   "metadata": {},
   "outputs": [],
   "source": []
  },
  {
   "cell_type": "code",
   "execution_count": null,
   "metadata": {},
   "outputs": [],
   "source": []
  }
 ],
 "metadata": {
  "kernelspec": {
   "display_name": "Python 3",
   "language": "python",
   "name": "python3"
  },
  "language_info": {
   "codemirror_mode": {
    "name": "ipython",
    "version": 3
   },
   "file_extension": ".py",
   "mimetype": "text/x-python",
   "name": "python",
   "nbconvert_exporter": "python",
   "pygments_lexer": "ipython3",
   "version": "3.7.3"
  }
 },
 "nbformat": 4,
 "nbformat_minor": 4
}
